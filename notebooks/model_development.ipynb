{
 "cells": [
  {
   "cell_type": "markdown",
   "id": "936a988a",
   "metadata": {},
   "source": [
    "# ReviewLens AI: Model Development and Validation\n",
    "\n",
    "**Author:** Kevin Della Piazza\n",
    "**Date:** October 2025\n",
    "\n",
    "## 1. Introduction\n",
    "This notebook documents the development and validation process for the core AI models of the ReviewLens platform. The objective is to test a suite of four distinct NLP models on a sample of the dataset to validate their effectiveness and to prototype the foundational Python code for the production AWS Lambda functions. This notebook serves as a professional artifact detailing the data science workflow, from data preparation to model evaluation.\n",
    "\n",
    "### AI Models Tested:\n",
    "1.  **Sentiment Analysis:** For overall positive/negative classification.\n",
    "2.  **Zero-Shot Classification:** For dynamic topic tagging.\n",
    "3.  **Aspect-Based Sentiment Analysis (ABSA):** For fine-grained sentiment on specific features.\n",
    "4.  **Topic Modeling:** For discovering latent themes in the text corpus."
   ]
  },
  {
   "cell_type": "code",
   "execution_count": 11,
   "id": "24226fb1",
   "metadata": {},
   "outputs": [
    {
     "name": "stdout",
     "output_type": "stream",
     "text": [
      "Libraries imported successfully.\n"
     ]
    }
   ],
   "source": [
    "# --- Core Libraries ---\n",
    "import pandas as pd\n",
    "import numpy as np\n",
    "from tqdm.auto import tqdm\n",
    "import warnings\n",
    "from IPython.display import display\n",
    "import re\n",
    "import stopit\n",
    "\n",
    "# --- AI Libraries ---\n",
    "from transformers import pipeline\n",
    "from pyabsa import ATEPCCheckpointManager\n",
    "from bertopic import BERTopic\n",
    "\n",
    "# --- Validation ---\n",
    "from sklearn.metrics import accuracy_score, classification_report\n",
    "\n",
    "# --- Configuration ---\n",
    "# Suppress ignorable warnings for a cleaner output\n",
    "warnings.filterwarnings('ignore')\n",
    "pd.set_option('display.max_columns', None)\n",
    "pd.set_option('display.max_colwidth', None)\n",
    "tqdm.pandas()\n",
    "\n",
    "print(\"Libraries imported successfully.\")"
   ]
  },
  {
   "cell_type": "markdown",
   "id": "4a09428c",
   "metadata": {},
   "source": [
    "## 2. Data Loading, Cleaning & Sanitization\n",
    "We load the raw dataset and apply the cleaning steps that will be replicated in our AWS pipeline. A text sanitization step is included to prevent errors from special characters, making the code more robust for production."
   ]
  },
  {
   "cell_type": "code",
   "execution_count": 3,
   "id": "6c177440",
   "metadata": {},
   "outputs": [
    {
     "name": "stdout",
     "output_type": "stream",
     "text": [
      "Dataset loaded successfully with 23486 rows.\n",
      "Starting data cleaning...\n",
      "Data cleaned and sanitized. 22628 rows remaining.\n"
     ]
    }
   ],
   "source": [
    "# Load the raw dataset\n",
    "try:\n",
    "    # Use a relative path to ensure portability\n",
    "    file_path = '../data/reviews.csv'\n",
    "    df = pd.read_csv(file_path)\n",
    "    print(f\"Dataset loaded successfully with {len(df)} rows.\")\n",
    "\n",
    "    # --- Data Cleaning ---\n",
    "    print(\"Starting data cleaning...\")\n",
    "    df_cleaned = df.drop('Unnamed: 0', axis=1, errors='ignore')\n",
    "    df_cleaned.dropna(subset=['Review Text'], inplace=True)\n",
    "    df_cleaned['Title'] = df_cleaned['Title'].fillna('')\n",
    "    df_cleaned['full_review_text'] = df_cleaned['Title'] + ' ' + df_cleaned['Review Text']\n",
    "    df_cleaned.dropna(subset=['Division Name', 'Department Name', 'Class Name'], inplace=True)\n",
    "    \n",
    "    # --- Text Sanitization Function ---\n",
    "    def sanitize_text(text):\n",
    "        if not isinstance(text, str): return \"\"\n",
    "        # Replace ampersand, which was identified as a \"poison pill\" for ABSA\n",
    "        text = text.replace('&', 'and')\n",
    "        # Remove non-printable control characters\n",
    "        text = re.sub(r'[\\x00-\\x08\\x0b\\x0c\\x0e-\\x1f\\x7f-\\x9f]', '', text)\n",
    "        return text\n",
    "\n",
    "    # Apply sanitization to the main text column\n",
    "    df_cleaned['full_review_text'] = df_cleaned['full_review_text'].apply(sanitize_text)\n",
    "    print(f\"Data cleaned and sanitized. {len(df_cleaned)} rows remaining.\")\n",
    "\n",
    "except FileNotFoundError:\n",
    "    print(\"Error: reviews.csv not found. Please ensure the file is in the 'data/' directory.\")"
   ]
  },
  {
   "cell_type": "markdown",
   "id": "8afe0673",
   "metadata": {},
   "source": [
    "## 3. Sample Creation\n",
    "To ensure rapid development and testing, we create two distinct samples:\n",
    "* A **small sample (100 reviews)** for fast, iterative tests on row-level models.\n",
    "* A **larger sample (2000 reviews)** for Topic Modeling, which requires a larger corpus to generate meaningful results."
   ]
  },
  {
   "cell_type": "code",
   "execution_count": 4,
   "id": "53855954",
   "metadata": {},
   "outputs": [
    {
     "name": "stdout",
     "output_type": "stream",
     "text": [
      "Created 'df_sample_fast' with 100 reviews for rapid testing.\n",
      "Created 'df_sample_topic' with 2000 reviews for Topic Modeling.\n"
     ]
    }
   ],
   "source": [
    "if 'df_cleaned' in locals() and not df_cleaned.empty:\n",
    "    # Small sample for fast, iterative tests\n",
    "    df_sample_fast = df_cleaned.sample(100, random_state=42).copy()\n",
    "    print(f\"Created 'df_sample_fast' with {len(df_sample_fast)} reviews for rapid testing.\")\n",
    "\n",
    "    # Larger sample required for meaningful Topic Modeling\n",
    "    df_sample_topic = df_cleaned.sample(2000, random_state=42).copy()\n",
    "    print(f\"Created 'df_sample_topic' with {len(df_sample_topic)} reviews for Topic Modeling.\")"
   ]
  },
  {
   "cell_type": "markdown",
   "id": "27debe93",
   "metadata": {},
   "source": [
    "## 4. AI Model Development & Validation\n",
    "\n",
    "### A Note on Model Constraints (Token Limits)\n",
    "\n",
    "All models based on the BERT or Transformer architecture (including DistilBERT and `pyabsa`'s underlying models) have a **maximum input size limit**, typically 512 tokens (approx. 350-400 words).\n",
    "\n",
    "In a production environment, passing text longer than this limit will cause the model to fail. To build a robust pipeline, we must **truncate** the input text to this 512-token limit.\n",
    "\n",
    "**Is this a problem?** No. For review analysis, this is an acceptable trade-off. The core sentiment and topics of a review are almost always contained in the first few paragraphs. By truncating the text, we gain massive performance and stability at a negligible cost to accuracy. The `bertopic` model handles this truncation automatically.\n",
    "\n",
    "\n",
    "\n",
    "### 4.1. Sentiment Analysis\n",
    "* **Business Question:** Are our customers generally happy or unhappy?\n",
    "* **Model Chosen:** `distilbert-base-uncased-finetuned-sst-2-english`\n",
    "* **Justification:** Chosen for its excellent balance of speed and accuracy, making it ideal for scalable, serverless environments."
   ]
  },
  {
   "cell_type": "code",
   "execution_count": 5,
   "id": "afab0db6",
   "metadata": {},
   "outputs": [
    {
     "name": "stdout",
     "output_type": "stream",
     "text": [
      "Loading Sentiment Analysis model...\n"
     ]
    },
    {
     "name": "stderr",
     "output_type": "stream",
     "text": [
      "Xformers is not installed correctly. If you want to use memorry_efficient_attention to accelerate training use the following command to install Xformers\n",
      "pip install xformers.\n"
     ]
    },
    {
     "name": "stdout",
     "output_type": "stream",
     "text": [
      "Applying Sentiment Analysis to the fast sample (100 reviews)...\n"
     ]
    },
    {
     "name": "stderr",
     "output_type": "stream",
     "text": [
      "100%|██████████| 100/100 [00:02<00:00, 45.52it/s]\n"
     ]
    },
    {
     "name": "stdout",
     "output_type": "stream",
     "text": [
      "Sentiment Analysis complete.\n",
      "\n",
      "--- Model Validation ---\n",
      "Sentiment Model Accuracy on Sample: 87.00%\n",
      "\n",
      "Classification Report:\n",
      "              precision    recall  f1-score   support\n",
      "\n",
      "    NEGATIVE       0.68      0.88      0.76        24\n",
      "    POSITIVE       0.96      0.87      0.91        76\n",
      "\n",
      "    accuracy                           0.87       100\n",
      "   macro avg       0.82      0.87      0.84       100\n",
      "weighted avg       0.89      0.87      0.88       100\n",
      "\n"
     ]
    }
   ],
   "source": [
    "print(\"Loading Sentiment Analysis model...\")\n",
    "sentiment_pipeline = pipeline(\"sentiment-analysis\", model=\"distilbert-base-uncased-finetuned-sst-2-english\")\n",
    "\n",
    "def safe_get_sentiment(text):\n",
    "    \"\"\"Applies sentiment analysis with error handling.\"\"\"\n",
    "    try:\n",
    "        return sentiment_pipeline(text[:512])[0]['label']\n",
    "    except Exception as e:\n",
    "        print(f\"--> SENTIMENT FAILED on review: '{text[:50]}...' | Error: {e}\")\n",
    "        return \"ERROR\"\n",
    "\n",
    "print(f\"Applying Sentiment Analysis to the fast sample ({len(df_sample_fast)} reviews)...\")\n",
    "df_sample_fast['sentiment_prediction'] = df_sample_fast['full_review_text'].progress_apply(safe_get_sentiment)\n",
    "print(\"Sentiment Analysis complete.\")\n",
    "\n",
    "# --- Quantitative Validation ---\n",
    "print(\"\\n--- Model Validation ---\")\n",
    "# Define \"ground truth\" based on user ratings (e.g., > 3 stars is positive)\n",
    "df_sample_fast['true_sentiment'] = np.where(df_sample_fast['Rating'] > 3, 'POSITIVE', 'NEGATIVE')\n",
    "\n",
    "# Calculate accuracy\n",
    "accuracy = accuracy_score(df_sample_fast['true_sentiment'], df_sample_fast['sentiment_prediction'])\n",
    "print(f\"Sentiment Model Accuracy on Sample: {accuracy:.2%}\")\n",
    "\n",
    "# Display a detailed classification report\n",
    "print(\"\\nClassification Report:\")\n",
    "print(classification_report(df_sample_fast['true_sentiment'], df_sample_fast['sentiment_prediction']))"
   ]
  },
  {
   "cell_type": "markdown",
   "id": "8f361c57",
   "metadata": {},
   "source": [
    "### 4.2. Zero-Shot Classification\n",
    "* **Business Question:** What specific topics (e.g., 'price', 'shipping') are customers talking about?\n",
    "* **Model Chosen:** `typeform/distilbert-base-uncased-mnli`\n",
    "* **Justification:** This model provides a fast and highly accurate zero-shot classification capability. Its efficient \"distilled\" architecture is ideal for a serverless environment, ensuring high performance and scalability. This allows us to dynamically categorize reviews against key business topics (like 'price' or 'shipping') without needing to retrain the model for new categories."
   ]
  },
  {
   "cell_type": "code",
   "execution_count": 6,
   "id": "ea3ce00e",
   "metadata": {},
   "outputs": [
    {
     "name": "stdout",
     "output_type": "stream",
     "text": [
      "Loading Zero-Shot Classification model (typeform/distilbert-base-uncased-mnli)...\n"
     ]
    },
    {
     "name": "stderr",
     "output_type": "stream",
     "text": [
      "config.json: 100%|██████████| 776/776 [00:00<?, ?B/s] \n",
      "The `xla_device` argument has been deprecated in v4.4.0 of Transformers. It is ignored and you can safely remove it from your `config.json` file.\n",
      "The `xla_device` argument has been deprecated in v4.4.0 of Transformers. It is ignored and you can safely remove it from your `config.json` file.\n",
      "pytorch_model.bin: 100%|██████████| 268M/268M [00:04<00:00, 55.8MB/s] \n",
      "tokenizer_config.json: 100%|██████████| 258/258 [00:00<?, ?B/s] \n",
      "The `xla_device` argument has been deprecated in v4.4.0 of Transformers. It is ignored and you can safely remove it from your `config.json` file.\n",
      "vocab.txt: 232kB [00:00, 6.53MB/s]\n",
      "special_tokens_map.json: 100%|██████████| 112/112 [00:00<?, ?B/s] \n",
      "The `xla_device` argument has been deprecated in v4.4.0 of Transformers. It is ignored and you can safely remove it from your `config.json` file.\n",
      "The `xla_device` argument has been deprecated in v4.4.0 of Transformers. It is ignored and you can safely remove it from your `config.json` file.\n"
     ]
    },
    {
     "name": "stdout",
     "output_type": "stream",
     "text": [
      "Zero-Shot model loaded successfully.\n",
      "Applying Zero-Shot Classification to the fast sample (100 reviews)...\n"
     ]
    },
    {
     "name": "stderr",
     "output_type": "stream",
     "text": [
      "100%|██████████| 100/100 [00:12<00:00,  7.79it/s]\n"
     ]
    },
    {
     "name": "stdout",
     "output_type": "stream",
     "text": [
      "Zero-Shot Classification complete.\n",
      "\n",
      "--- Qualitative Validation Examples ---\n"
     ]
    },
    {
     "data": {
      "text/html": [
       "<div>\n",
       "<style scoped>\n",
       "    .dataframe tbody tr th:only-of-type {\n",
       "        vertical-align: middle;\n",
       "    }\n",
       "\n",
       "    .dataframe tbody tr th {\n",
       "        vertical-align: top;\n",
       "    }\n",
       "\n",
       "    .dataframe thead th {\n",
       "        text-align: right;\n",
       "    }\n",
       "</style>\n",
       "<table border=\"1\" class=\"dataframe\">\n",
       "  <thead>\n",
       "    <tr style=\"text-align: right;\">\n",
       "      <th></th>\n",
       "      <th>full_review_text</th>\n",
       "      <th>zero_shot_topic</th>\n",
       "    </tr>\n",
       "  </thead>\n",
       "  <tbody>\n",
       "    <tr>\n",
       "      <th>8329</th>\n",
       "      <td>Change armpits I love, love this dress except for the armpits. if they had just made the armpits...</td>\n",
       "      <td>quality</td>\n",
       "    </tr>\n",
       "    <tr>\n",
       "      <th>17943</th>\n",
       "      <td>Awkward sweater I wanted this sweater to work but sadly it failed. first, the pink was way to sh...</td>\n",
       "      <td>quality</td>\n",
       "    </tr>\n",
       "    <tr>\n",
       "      <th>2157</th>\n",
       "      <td>Best. tee. ever. Oh my! i love this tee. it is super soft. i love how it doesn't look like a sac...</td>\n",
       "      <td>fit</td>\n",
       "    </tr>\n",
       "    <tr>\n",
       "      <th>11456</th>\n",
       "      <td>Well-made but lacks structure I love the style of this swimsuit on the model. when i purchased i...</td>\n",
       "      <td>quality</td>\n",
       "    </tr>\n",
       "    <tr>\n",
       "      <th>14386</th>\n",
       "      <td>Strangely cut Was super excited to try this on, but had to go up 3 sizes from my normal 6 and th...</td>\n",
       "      <td>fit</td>\n",
       "    </tr>\n",
       "  </tbody>\n",
       "</table>\n",
       "</div>"
      ],
      "text/plain": [
       "                                                                                          full_review_text  \\\n",
       "8329   Change armpits I love, love this dress except for the armpits. if they had just made the armpits...   \n",
       "17943  Awkward sweater I wanted this sweater to work but sadly it failed. first, the pink was way to sh...   \n",
       "2157   Best. tee. ever. Oh my! i love this tee. it is super soft. i love how it doesn't look like a sac...   \n",
       "11456  Well-made but lacks structure I love the style of this swimsuit on the model. when i purchased i...   \n",
       "14386  Strangely cut Was super excited to try this on, but had to go up 3 sizes from my normal 6 and th...   \n",
       "\n",
       "      zero_shot_topic  \n",
       "8329          quality  \n",
       "17943         quality  \n",
       "2157              fit  \n",
       "11456         quality  \n",
       "14386             fit  "
      ]
     },
     "metadata": {},
     "output_type": "display_data"
    }
   ],
   "source": [
    "print(\"Loading Zero-Shot Classification model (typeform/distilbert-base-uncased-mnli)...\")\n",
    "zero_shot_classifier = pipeline(\"zero-shot-classification\", model=\"typeform/distilbert-base-uncased-mnli\")\n",
    "print(\"Zero-Shot model loaded successfully.\")\n",
    "\n",
    "candidate_labels = ['price', 'quality', 'shipping', 'customer service', 'fit', 'fabric']\n",
    "\n",
    "def safe_get_top_topic(review_text):\n",
    "    \"\"\"Applies zero-shot classification with error handling.\"\"\"\n",
    "    try:\n",
    "        return zero_shot_classifier(review_text[:512], candidate_labels)['labels'][0]\n",
    "    except Exception as e:\n",
    "        print(f\"--> ZERO-SHOT FAILED on review: '{review_text[:50]}...' | Error: {e}\")\n",
    "        return \"ERROR\"\n",
    "\n",
    "print(f\"Applying Zero-Shot Classification to the fast sample ({len(df_sample_fast)} reviews)...\")\n",
    "df_sample_fast['zero_shot_topic'] = df_sample_fast['full_review_text'].progress_apply(safe_get_top_topic)\n",
    "print(\"Zero-Shot Classification complete.\")\n",
    "\n",
    "# --- Qualitative Validation ---\n",
    "print(\"\\n--- Qualitative Validation Examples ---\")\n",
    "display(df_sample_fast[['full_review_text', 'zero_shot_topic']].head())"
   ]
  },
  {
   "cell_type": "markdown",
   "id": "ca40e9ad",
   "metadata": {},
   "source": [
    "### 4.3. Aspect-Based Sentiment Analysis (ABSA)\n",
    "* **Business Question:** When customers discuss a topic, what specific *features* do they like or dislike?\n",
    "* **Model Chosen:** `pyabsa` library (pre-trained 'english' checkpoint)\n",
    "* **Justification:** We use this specialized library to extract fine-grained sentiment towards specific product features (aspects), offering actionable insights for product development."
   ]
  },
  {
   "cell_type": "code",
   "execution_count": 7,
   "id": "8f34ceb2",
   "metadata": {},
   "outputs": [
    {
     "name": "stdout",
     "output_type": "stream",
     "text": [
      "Loading Aspect-Based Sentiment Analysis model...\n",
      "[2025-10-20 10:45:24] (2.4.2) ********** Available ATEPC model checkpoints for Version:2.4.2 (this version) **********\n",
      "[2025-10-20 10:45:24] (2.4.2) ********** Available ATEPC model checkpoints for Version:2.4.2 (this version) **********\n",
      "[2025-10-20 10:45:24] (2.4.2) Downloading checkpoint:english \n",
      "[2025-10-20 10:45:24] (2.4.2) Notice: The pretrained model are used for testing, it is recommended to train the model on your own custom datasets\n",
      "[2025-10-20 10:45:24] (2.4.2) Checkpoint already downloaded, skip\n",
      "FindFile Warning --> multiple targets ['Aspect Term Extraction and Polarity Classification.FAST_LCF_ATEPC.result.json', 'checkpoints\\\\ATEPC_ENGLISH_CHECKPOINT\\\\fast_lcf_atepc_English_cdw_apcacc_82.36_apcf1_81.89_atef1_75.43\\\\fast_lcf_atepc.args.txt', 'checkpoints\\\\ATEPC_ENGLISH_CHECKPOINT\\\\fast_lcf_atepc_English_cdw_apcacc_82.36_apcf1_81.89_atef1_75.43\\\\fast_lcf_atepc.config', 'checkpoints\\\\ATEPC_ENGLISH_CHECKPOINT\\\\fast_lcf_atepc_English_cdw_apcacc_82.36_apcf1_81.89_atef1_75.43\\\\fast_lcf_atepc.state_dict', 'checkpoints\\\\ATEPC_ENGLISH_CHECKPOINT\\\\fast_lcf_atepc_English_cdw_apcacc_82.36_apcf1_81.89_atef1_75.43\\\\fast_lcf_atepc.tokenizer'] found, only return the shortest path: <Aspect Term Extraction and Polarity Classification.FAST_LCF_ATEPC.result.json>\n",
      "FindFile Warning --> multiple targets ['Aspect Term Extraction and Polarity Classification.FAST_LCF_ATEPC.result.json', 'checkpoints\\\\ATEPC_ENGLISH_CHECKPOINT\\\\fast_lcf_atepc_English_cdw_apcacc_82.36_apcf1_81.89_atef1_75.43\\\\fast_lcf_atepc.args.txt', 'checkpoints\\\\ATEPC_ENGLISH_CHECKPOINT\\\\fast_lcf_atepc_English_cdw_apcacc_82.36_apcf1_81.89_atef1_75.43\\\\fast_lcf_atepc.config', 'checkpoints\\\\ATEPC_ENGLISH_CHECKPOINT\\\\fast_lcf_atepc_English_cdw_apcacc_82.36_apcf1_81.89_atef1_75.43\\\\fast_lcf_atepc.state_dict', 'checkpoints\\\\ATEPC_ENGLISH_CHECKPOINT\\\\fast_lcf_atepc_English_cdw_apcacc_82.36_apcf1_81.89_atef1_75.43\\\\fast_lcf_atepc.tokenizer'] found, only return the shortest path: <Aspect Term Extraction and Polarity Classification.FAST_LCF_ATEPC.result.json>\n",
      "[2025-10-20 10:45:25] (2.4.2) ********** Available ATEPC model checkpoints for Version:2.4.2 (this version) **********\n",
      "[2025-10-20 10:45:25] (2.4.2) ********** Available ATEPC model checkpoints for Version:2.4.2 (this version) **********\n",
      "[2025-10-20 10:45:25] (2.4.2) Checkpoint: is not found, you can raise an issue for requesting shares of checkpoints\n",
      "[2025-10-20 10:45:25] (2.4.2) No checkpoint found in Model Hub for task: \n",
      "FindFile Warning --> multiple targets ['Aspect Term Extraction and Polarity Classification.FAST_LCF_ATEPC.result.json', 'checkpoints.json', 'model_development.ipynb', '.ipynb_checkpoints\\\\01_data_exploration-checkpoint.ipynb', 'checkpoints\\\\ATEPC_ENGLISH_CHECKPOINT\\\\fast_lcf_atepc_English_cdw_apcacc_82.36_apcf1_81.89_atef1_75.43\\\\fast_lcf_atepc.args.txt', 'checkpoints\\\\ATEPC_ENGLISH_CHECKPOINT\\\\fast_lcf_atepc_English_cdw_apcacc_82.36_apcf1_81.89_atef1_75.43\\\\fast_lcf_atepc.config', 'checkpoints\\\\ATEPC_ENGLISH_CHECKPOINT\\\\fast_lcf_atepc_English_cdw_apcacc_82.36_apcf1_81.89_atef1_75.43\\\\fast_lcf_atepc.state_dict', 'checkpoints\\\\ATEPC_ENGLISH_CHECKPOINT\\\\fast_lcf_atepc_English_cdw_apcacc_82.36_apcf1_81.89_atef1_75.43\\\\fast_lcf_atepc.tokenizer'] found, only return the shortest path: <checkpoints.json>\n",
      "FindFile Warning --> multiple targets ['Aspect Term Extraction and Polarity Classification.FAST_LCF_ATEPC.result.json', 'checkpoints.json', 'model_development.ipynb', '.ipynb_checkpoints\\\\01_data_exploration-checkpoint.ipynb', 'checkpoints\\\\ATEPC_ENGLISH_CHECKPOINT\\\\fast_lcf_atepc_English_cdw_apcacc_82.36_apcf1_81.89_atef1_75.43\\\\fast_lcf_atepc.args.txt', 'checkpoints\\\\ATEPC_ENGLISH_CHECKPOINT\\\\fast_lcf_atepc_English_cdw_apcacc_82.36_apcf1_81.89_atef1_75.43\\\\fast_lcf_atepc.config', 'checkpoints\\\\ATEPC_ENGLISH_CHECKPOINT\\\\fast_lcf_atepc_English_cdw_apcacc_82.36_apcf1_81.89_atef1_75.43\\\\fast_lcf_atepc.state_dict', 'checkpoints\\\\ATEPC_ENGLISH_CHECKPOINT\\\\fast_lcf_atepc_English_cdw_apcacc_82.36_apcf1_81.89_atef1_75.43\\\\fast_lcf_atepc.tokenizer'] found, only return the shortest path: <checkpoints.json>\n",
      "[2025-10-20 10:45:25] (2.4.2) Load aspect extractor from \n",
      "[2025-10-20 10:45:25] (2.4.2) config: checkpoints\\ATEPC_ENGLISH_CHECKPOINT\\fast_lcf_atepc_English_cdw_apcacc_82.36_apcf1_81.89_atef1_75.43\\fast_lcf_atepc.config\n",
      "[2025-10-20 10:45:25] (2.4.2) state_dict: checkpoints\\ATEPC_ENGLISH_CHECKPOINT\\fast_lcf_atepc_English_cdw_apcacc_82.36_apcf1_81.89_atef1_75.43\\fast_lcf_atepc.state_dict\n",
      "[2025-10-20 10:45:25] (2.4.2) model: None\n",
      "[2025-10-20 10:45:25] (2.4.2) tokenizer: checkpoints\\ATEPC_ENGLISH_CHECKPOINT\\fast_lcf_atepc_English_cdw_apcacc_82.36_apcf1_81.89_atef1_75.43\\fast_lcf_atepc.tokenizer\n",
      "[2025-10-20 10:45:25] (2.4.2) Set Model Device: cpu\n",
      "[2025-10-20 10:45:25] (2.4.2) Device Name: Unknown\n"
     ]
    },
    {
     "name": "stderr",
     "output_type": "stream",
     "text": [
      "Some weights of the model checkpoint at microsoft/deberta-v3-base were not used when initializing DebertaV2Model: ['mask_predictions.classifier.weight', 'lm_predictions.lm_head.LayerNorm.bias', 'lm_predictions.lm_head.dense.weight', 'mask_predictions.classifier.bias', 'lm_predictions.lm_head.LayerNorm.weight', 'mask_predictions.LayerNorm.weight', 'lm_predictions.lm_head.bias', 'mask_predictions.dense.bias', 'mask_predictions.dense.weight', 'mask_predictions.LayerNorm.bias', 'lm_predictions.lm_head.dense.bias']\n",
      "- This IS expected if you are initializing DebertaV2Model from the checkpoint of a model trained on another task or with another architecture (e.g. initializing a BertForSequenceClassification model from a BertForPreTraining model).\n",
      "- This IS NOT expected if you are initializing DebertaV2Model from the checkpoint of a model that you expect to be exactly identical (initializing a BertForSequenceClassification model from a BertForSequenceClassification model).\n",
      "Special tokens have been added in the vocabulary, make sure the associated word embeddings are fine-tuned or trained.\n",
      "Special tokens have been added in the vocabulary, make sure the associated word embeddings are fine-tuned or trained.\n"
     ]
    },
    {
     "name": "stdout",
     "output_type": "stream",
     "text": [
      "Applying ABSA to the fast sample (100 reviews)...\n"
     ]
    },
    {
     "name": "stderr",
     "output_type": "stream",
     "text": [
      "  0%|          | 0/100 [00:00<?, ?it/s]"
     ]
    },
    {
     "name": "stdout",
     "output_type": "stream",
     "text": [
      "[2025-10-20 10:45:36] (2.4.2) The results of aspect term extraction have been saved in d:\\PROJECTS\\reviewlens-ai\\notebooks\\Aspect Term Extraction and Polarity Classification.FAST_LCF_ATEPC.result.json\n"
     ]
    },
    {
     "name": "stderr",
     "output_type": "stream",
     "text": [
      "  2%|▏         | 2/100 [00:01<01:10,  1.39it/s]"
     ]
    },
    {
     "name": "stdout",
     "output_type": "stream",
     "text": [
      "[2025-10-20 10:45:37] (2.4.2) The results of aspect term extraction have been saved in d:\\PROJECTS\\reviewlens-ai\\notebooks\\Aspect Term Extraction and Polarity Classification.FAST_LCF_ATEPC.result.json\n"
     ]
    },
    {
     "name": "stderr",
     "output_type": "stream",
     "text": [
      "  3%|▎         | 3/100 [00:02<01:37,  1.01s/it]"
     ]
    },
    {
     "name": "stdout",
     "output_type": "stream",
     "text": [
      "[2025-10-20 10:45:38] (2.4.2) The results of aspect term extraction have been saved in d:\\PROJECTS\\reviewlens-ai\\notebooks\\Aspect Term Extraction and Polarity Classification.FAST_LCF_ATEPC.result.json\n"
     ]
    },
    {
     "name": "stderr",
     "output_type": "stream",
     "text": [
      "  4%|▍         | 4/100 [00:03<01:30,  1.06it/s]"
     ]
    },
    {
     "name": "stdout",
     "output_type": "stream",
     "text": [
      "[2025-10-20 10:45:40] (2.4.2) The results of aspect term extraction have been saved in d:\\PROJECTS\\reviewlens-ai\\notebooks\\Aspect Term Extraction and Polarity Classification.FAST_LCF_ATEPC.result.json\n"
     ]
    },
    {
     "name": "stderr",
     "output_type": "stream",
     "text": [
      "  5%|▌         | 5/100 [00:05<01:45,  1.11s/it]"
     ]
    },
    {
     "name": "stdout",
     "output_type": "stream",
     "text": [
      "[2025-10-20 10:45:41] (2.4.2) The results of aspect term extraction have been saved in d:\\PROJECTS\\reviewlens-ai\\notebooks\\Aspect Term Extraction and Polarity Classification.FAST_LCF_ATEPC.result.json\n"
     ]
    },
    {
     "name": "stderr",
     "output_type": "stream",
     "text": [
      "  6%|▌         | 6/100 [00:06<01:53,  1.21s/it]"
     ]
    },
    {
     "name": "stdout",
     "output_type": "stream",
     "text": [
      "[2025-10-20 10:45:43] (2.4.2) The results of aspect term extraction have been saved in d:\\PROJECTS\\reviewlens-ai\\notebooks\\Aspect Term Extraction and Polarity Classification.FAST_LCF_ATEPC.result.json\n"
     ]
    },
    {
     "name": "stderr",
     "output_type": "stream",
     "text": [
      "  7%|▋         | 7/100 [00:08<02:00,  1.30s/it]"
     ]
    },
    {
     "name": "stdout",
     "output_type": "stream",
     "text": [
      "[2025-10-20 10:45:44] (2.4.2) The results of aspect term extraction have been saved in d:\\PROJECTS\\reviewlens-ai\\notebooks\\Aspect Term Extraction and Polarity Classification.FAST_LCF_ATEPC.result.json\n"
     ]
    },
    {
     "name": "stderr",
     "output_type": "stream",
     "text": [
      "  8%|▊         | 8/100 [00:09<01:51,  1.21s/it]"
     ]
    },
    {
     "name": "stdout",
     "output_type": "stream",
     "text": [
      "[2025-10-20 10:45:45] (2.4.2) The results of aspect term extraction have been saved in d:\\PROJECTS\\reviewlens-ai\\notebooks\\Aspect Term Extraction and Polarity Classification.FAST_LCF_ATEPC.result.json\n"
     ]
    },
    {
     "name": "stderr",
     "output_type": "stream",
     "text": [
      "  9%|▉         | 9/100 [00:10<01:52,  1.24s/it]"
     ]
    },
    {
     "name": "stdout",
     "output_type": "stream",
     "text": [
      "[2025-10-20 10:45:47] (2.4.2) The results of aspect term extraction have been saved in d:\\PROJECTS\\reviewlens-ai\\notebooks\\Aspect Term Extraction and Polarity Classification.FAST_LCF_ATEPC.result.json\n"
     ]
    },
    {
     "name": "stderr",
     "output_type": "stream",
     "text": [
      " 10%|█         | 10/100 [00:12<02:06,  1.41s/it]"
     ]
    },
    {
     "name": "stdout",
     "output_type": "stream",
     "text": [
      "[2025-10-20 10:45:48] (2.4.2) The results of aspect term extraction have been saved in d:\\PROJECTS\\reviewlens-ai\\notebooks\\Aspect Term Extraction and Polarity Classification.FAST_LCF_ATEPC.result.json\n"
     ]
    },
    {
     "name": "stderr",
     "output_type": "stream",
     "text": [
      " 11%|█         | 11/100 [00:13<02:08,  1.45s/it]"
     ]
    },
    {
     "name": "stdout",
     "output_type": "stream",
     "text": [
      "[2025-10-20 10:45:50] (2.4.2) The results of aspect term extraction have been saved in d:\\PROJECTS\\reviewlens-ai\\notebooks\\Aspect Term Extraction and Polarity Classification.FAST_LCF_ATEPC.result.json\n"
     ]
    },
    {
     "name": "stderr",
     "output_type": "stream",
     "text": [
      " 12%|█▏        | 12/100 [00:15<02:07,  1.45s/it]"
     ]
    },
    {
     "name": "stdout",
     "output_type": "stream",
     "text": [
      "[2025-10-20 10:45:51] (2.4.2) The results of aspect term extraction have been saved in d:\\PROJECTS\\reviewlens-ai\\notebooks\\Aspect Term Extraction and Polarity Classification.FAST_LCF_ATEPC.result.json\n"
     ]
    },
    {
     "name": "stderr",
     "output_type": "stream",
     "text": [
      " 13%|█▎        | 13/100 [00:16<01:54,  1.32s/it]"
     ]
    },
    {
     "name": "stdout",
     "output_type": "stream",
     "text": [
      "[2025-10-20 10:45:52] (2.4.2) The results of aspect term extraction have been saved in d:\\PROJECTS\\reviewlens-ai\\notebooks\\Aspect Term Extraction and Polarity Classification.FAST_LCF_ATEPC.result.json\n"
     ]
    },
    {
     "name": "stderr",
     "output_type": "stream",
     "text": [
      " 14%|█▍        | 14/100 [00:17<01:48,  1.27s/it]"
     ]
    },
    {
     "name": "stdout",
     "output_type": "stream",
     "text": [
      "[2025-10-20 10:45:53] (2.4.2) The results of aspect term extraction have been saved in d:\\PROJECTS\\reviewlens-ai\\notebooks\\Aspect Term Extraction and Polarity Classification.FAST_LCF_ATEPC.result.json\n"
     ]
    },
    {
     "name": "stderr",
     "output_type": "stream",
     "text": [
      " 15%|█▌        | 15/100 [00:18<01:51,  1.31s/it]"
     ]
    },
    {
     "name": "stdout",
     "output_type": "stream",
     "text": [
      "[2025-10-20 10:45:55] (2.4.2) The results of aspect term extraction have been saved in d:\\PROJECTS\\reviewlens-ai\\notebooks\\Aspect Term Extraction and Polarity Classification.FAST_LCF_ATEPC.result.json\n"
     ]
    },
    {
     "name": "stderr",
     "output_type": "stream",
     "text": [
      " 16%|█▌        | 16/100 [00:20<01:57,  1.40s/it]"
     ]
    },
    {
     "name": "stdout",
     "output_type": "stream",
     "text": [
      "[2025-10-20 10:45:56] (2.4.2) The results of aspect term extraction have been saved in d:\\PROJECTS\\reviewlens-ai\\notebooks\\Aspect Term Extraction and Polarity Classification.FAST_LCF_ATEPC.result.json\n"
     ]
    },
    {
     "name": "stderr",
     "output_type": "stream",
     "text": [
      " 17%|█▋        | 17/100 [00:21<01:56,  1.40s/it]"
     ]
    },
    {
     "name": "stdout",
     "output_type": "stream",
     "text": [
      "[2025-10-20 10:45:57] (2.4.2) The results of aspect term extraction have been saved in d:\\PROJECTS\\reviewlens-ai\\notebooks\\Aspect Term Extraction and Polarity Classification.FAST_LCF_ATEPC.result.json\n"
     ]
    },
    {
     "name": "stderr",
     "output_type": "stream",
     "text": [
      " 18%|█▊        | 18/100 [00:22<01:44,  1.27s/it]"
     ]
    },
    {
     "name": "stdout",
     "output_type": "stream",
     "text": [
      "[2025-10-20 10:45:58] (2.4.2) The results of aspect term extraction have been saved in d:\\PROJECTS\\reviewlens-ai\\notebooks\\Aspect Term Extraction and Polarity Classification.FAST_LCF_ATEPC.result.json\n"
     ]
    },
    {
     "name": "stderr",
     "output_type": "stream",
     "text": [
      " 19%|█▉        | 19/100 [00:23<01:40,  1.24s/it]"
     ]
    },
    {
     "name": "stdout",
     "output_type": "stream",
     "text": [
      "[2025-10-20 10:46:00] (2.4.2) The results of aspect term extraction have been saved in d:\\PROJECTS\\reviewlens-ai\\notebooks\\Aspect Term Extraction and Polarity Classification.FAST_LCF_ATEPC.result.json\n"
     ]
    },
    {
     "name": "stderr",
     "output_type": "stream",
     "text": [
      " 20%|██        | 20/100 [00:24<01:34,  1.19s/it]"
     ]
    },
    {
     "name": "stdout",
     "output_type": "stream",
     "text": [
      "[2025-10-20 10:46:01] (2.4.2) The results of aspect term extraction have been saved in d:\\PROJECTS\\reviewlens-ai\\notebooks\\Aspect Term Extraction and Polarity Classification.FAST_LCF_ATEPC.result.json\n"
     ]
    },
    {
     "name": "stderr",
     "output_type": "stream",
     "text": [
      " 21%|██        | 21/100 [00:26<01:38,  1.24s/it]"
     ]
    },
    {
     "name": "stdout",
     "output_type": "stream",
     "text": [
      "[2025-10-20 10:46:02] (2.4.2) The results of aspect term extraction have been saved in d:\\PROJECTS\\reviewlens-ai\\notebooks\\Aspect Term Extraction and Polarity Classification.FAST_LCF_ATEPC.result.json\n"
     ]
    },
    {
     "name": "stderr",
     "output_type": "stream",
     "text": [
      " 22%|██▏       | 22/100 [00:27<01:31,  1.17s/it]"
     ]
    },
    {
     "name": "stdout",
     "output_type": "stream",
     "text": [
      "[2025-10-20 10:46:03] (2.4.2) The results of aspect term extraction have been saved in d:\\PROJECTS\\reviewlens-ai\\notebooks\\Aspect Term Extraction and Polarity Classification.FAST_LCF_ATEPC.result.json\n"
     ]
    },
    {
     "name": "stderr",
     "output_type": "stream",
     "text": [
      " 23%|██▎       | 23/100 [00:28<01:36,  1.25s/it]"
     ]
    },
    {
     "name": "stdout",
     "output_type": "stream",
     "text": [
      "[2025-10-20 10:46:04] (2.4.2) The results of aspect term extraction have been saved in d:\\PROJECTS\\reviewlens-ai\\notebooks\\Aspect Term Extraction and Polarity Classification.FAST_LCF_ATEPC.result.json\n"
     ]
    },
    {
     "name": "stderr",
     "output_type": "stream",
     "text": [
      " 24%|██▍       | 24/100 [00:29<01:25,  1.12s/it]"
     ]
    },
    {
     "name": "stdout",
     "output_type": "stream",
     "text": [
      "[2025-10-20 10:46:06] (2.4.2) The results of aspect term extraction have been saved in d:\\PROJECTS\\reviewlens-ai\\notebooks\\Aspect Term Extraction and Polarity Classification.FAST_LCF_ATEPC.result.json\n"
     ]
    },
    {
     "name": "stderr",
     "output_type": "stream",
     "text": [
      " 25%|██▌       | 25/100 [00:30<01:29,  1.20s/it]"
     ]
    },
    {
     "name": "stdout",
     "output_type": "stream",
     "text": [
      "[2025-10-20 10:46:07] (2.4.2) The results of aspect term extraction have been saved in d:\\PROJECTS\\reviewlens-ai\\notebooks\\Aspect Term Extraction and Polarity Classification.FAST_LCF_ATEPC.result.json\n"
     ]
    },
    {
     "name": "stderr",
     "output_type": "stream",
     "text": [
      " 26%|██▌       | 26/100 [00:32<01:29,  1.21s/it]"
     ]
    },
    {
     "name": "stdout",
     "output_type": "stream",
     "text": [
      "[2025-10-20 10:46:08] (2.4.2) The results of aspect term extraction have been saved in d:\\PROJECTS\\reviewlens-ai\\notebooks\\Aspect Term Extraction and Polarity Classification.FAST_LCF_ATEPC.result.json\n"
     ]
    },
    {
     "name": "stderr",
     "output_type": "stream",
     "text": [
      " 27%|██▋       | 27/100 [00:33<01:38,  1.34s/it]"
     ]
    },
    {
     "name": "stdout",
     "output_type": "stream",
     "text": [
      "[2025-10-20 10:46:10] (2.4.2) The results of aspect term extraction have been saved in d:\\PROJECTS\\reviewlens-ai\\notebooks\\Aspect Term Extraction and Polarity Classification.FAST_LCF_ATEPC.result.json\n"
     ]
    },
    {
     "name": "stderr",
     "output_type": "stream",
     "text": [
      " 28%|██▊       | 28/100 [00:35<01:39,  1.38s/it]"
     ]
    },
    {
     "name": "stdout",
     "output_type": "stream",
     "text": [
      "[2025-10-20 10:46:11] (2.4.2) The results of aspect term extraction have been saved in d:\\PROJECTS\\reviewlens-ai\\notebooks\\Aspect Term Extraction and Polarity Classification.FAST_LCF_ATEPC.result.json\n"
     ]
    },
    {
     "name": "stderr",
     "output_type": "stream",
     "text": [
      " 29%|██▉       | 29/100 [00:36<01:30,  1.27s/it]"
     ]
    },
    {
     "name": "stdout",
     "output_type": "stream",
     "text": [
      "[2025-10-20 10:46:12] (2.4.2) The results of aspect term extraction have been saved in d:\\PROJECTS\\reviewlens-ai\\notebooks\\Aspect Term Extraction and Polarity Classification.FAST_LCF_ATEPC.result.json\n"
     ]
    },
    {
     "name": "stderr",
     "output_type": "stream",
     "text": [
      " 30%|███       | 30/100 [00:37<01:33,  1.34s/it]"
     ]
    },
    {
     "name": "stdout",
     "output_type": "stream",
     "text": [
      "[2025-10-20 10:46:14] (2.4.2) The results of aspect term extraction have been saved in d:\\PROJECTS\\reviewlens-ai\\notebooks\\Aspect Term Extraction and Polarity Classification.FAST_LCF_ATEPC.result.json\n"
     ]
    },
    {
     "name": "stderr",
     "output_type": "stream",
     "text": [
      " 31%|███       | 31/100 [00:39<01:30,  1.32s/it]"
     ]
    },
    {
     "name": "stdout",
     "output_type": "stream",
     "text": [
      "[2025-10-20 10:46:15] (2.4.2) The results of aspect term extraction have been saved in d:\\PROJECTS\\reviewlens-ai\\notebooks\\Aspect Term Extraction and Polarity Classification.FAST_LCF_ATEPC.result.json\n"
     ]
    },
    {
     "name": "stderr",
     "output_type": "stream",
     "text": [
      " 32%|███▏      | 32/100 [00:40<01:36,  1.42s/it]"
     ]
    },
    {
     "name": "stdout",
     "output_type": "stream",
     "text": [
      "[2025-10-20 10:46:17] (2.4.2) The results of aspect term extraction have been saved in d:\\PROJECTS\\reviewlens-ai\\notebooks\\Aspect Term Extraction and Polarity Classification.FAST_LCF_ATEPC.result.json\n"
     ]
    },
    {
     "name": "stderr",
     "output_type": "stream",
     "text": [
      " 33%|███▎      | 33/100 [00:41<01:30,  1.35s/it]"
     ]
    },
    {
     "name": "stdout",
     "output_type": "stream",
     "text": [
      "[2025-10-20 10:46:18] (2.4.2) The results of aspect term extraction have been saved in d:\\PROJECTS\\reviewlens-ai\\notebooks\\Aspect Term Extraction and Polarity Classification.FAST_LCF_ATEPC.result.json\n"
     ]
    },
    {
     "name": "stderr",
     "output_type": "stream",
     "text": [
      " 34%|███▍      | 34/100 [00:43<01:25,  1.29s/it]"
     ]
    },
    {
     "name": "stdout",
     "output_type": "stream",
     "text": [
      "[2025-10-20 10:46:19] (2.4.2) The results of aspect term extraction have been saved in d:\\PROJECTS\\reviewlens-ai\\notebooks\\Aspect Term Extraction and Polarity Classification.FAST_LCF_ATEPC.result.json\n"
     ]
    },
    {
     "name": "stderr",
     "output_type": "stream",
     "text": [
      " 35%|███▌      | 35/100 [00:44<01:21,  1.25s/it]"
     ]
    },
    {
     "name": "stdout",
     "output_type": "stream",
     "text": [
      "[2025-10-20 10:46:20] (2.4.2) The results of aspect term extraction have been saved in d:\\PROJECTS\\reviewlens-ai\\notebooks\\Aspect Term Extraction and Polarity Classification.FAST_LCF_ATEPC.result.json\n"
     ]
    },
    {
     "name": "stderr",
     "output_type": "stream",
     "text": [
      " 36%|███▌      | 36/100 [00:45<01:20,  1.26s/it]"
     ]
    },
    {
     "name": "stdout",
     "output_type": "stream",
     "text": [
      "[2025-10-20 10:46:21] (2.4.2) The results of aspect term extraction have been saved in d:\\PROJECTS\\reviewlens-ai\\notebooks\\Aspect Term Extraction and Polarity Classification.FAST_LCF_ATEPC.result.json\n"
     ]
    },
    {
     "name": "stderr",
     "output_type": "stream",
     "text": [
      " 37%|███▋      | 37/100 [00:46<01:14,  1.18s/it]"
     ]
    },
    {
     "name": "stdout",
     "output_type": "stream",
     "text": [
      "[2025-10-20 10:46:23] (2.4.2) The results of aspect term extraction have been saved in d:\\PROJECTS\\reviewlens-ai\\notebooks\\Aspect Term Extraction and Polarity Classification.FAST_LCF_ATEPC.result.json\n"
     ]
    },
    {
     "name": "stderr",
     "output_type": "stream",
     "text": [
      " 38%|███▊      | 38/100 [00:48<01:20,  1.30s/it]"
     ]
    },
    {
     "name": "stdout",
     "output_type": "stream",
     "text": [
      "[2025-10-20 10:46:24] (2.4.2) The results of aspect term extraction have been saved in d:\\PROJECTS\\reviewlens-ai\\notebooks\\Aspect Term Extraction and Polarity Classification.FAST_LCF_ATEPC.result.json\n"
     ]
    },
    {
     "name": "stderr",
     "output_type": "stream",
     "text": [
      " 39%|███▉      | 39/100 [00:49<01:24,  1.39s/it]"
     ]
    },
    {
     "name": "stdout",
     "output_type": "stream",
     "text": [
      "[2025-10-20 10:46:25] (2.4.2) The results of aspect term extraction have been saved in d:\\PROJECTS\\reviewlens-ai\\notebooks\\Aspect Term Extraction and Polarity Classification.FAST_LCF_ATEPC.result.json\n"
     ]
    },
    {
     "name": "stderr",
     "output_type": "stream",
     "text": [
      " 40%|████      | 40/100 [00:50<01:16,  1.28s/it]"
     ]
    },
    {
     "name": "stdout",
     "output_type": "stream",
     "text": [
      "[2025-10-20 10:46:26] (2.4.2) The results of aspect term extraction have been saved in d:\\PROJECTS\\reviewlens-ai\\notebooks\\Aspect Term Extraction and Polarity Classification.FAST_LCF_ATEPC.result.json\n"
     ]
    },
    {
     "name": "stderr",
     "output_type": "stream",
     "text": [
      " 41%|████      | 41/100 [00:51<01:10,  1.20s/it]"
     ]
    },
    {
     "name": "stdout",
     "output_type": "stream",
     "text": [
      "[2025-10-20 10:46:27] (2.4.2) The results of aspect term extraction have been saved in d:\\PROJECTS\\reviewlens-ai\\notebooks\\Aspect Term Extraction and Polarity Classification.FAST_LCF_ATEPC.result.json\n"
     ]
    },
    {
     "name": "stderr",
     "output_type": "stream",
     "text": [
      " 42%|████▏     | 42/100 [00:52<01:08,  1.19s/it]"
     ]
    },
    {
     "name": "stdout",
     "output_type": "stream",
     "text": [
      "[2025-10-20 10:46:29] (2.4.2) The results of aspect term extraction have been saved in d:\\PROJECTS\\reviewlens-ai\\notebooks\\Aspect Term Extraction and Polarity Classification.FAST_LCF_ATEPC.result.json\n"
     ]
    },
    {
     "name": "stderr",
     "output_type": "stream",
     "text": [
      " 43%|████▎     | 43/100 [00:54<01:08,  1.19s/it]"
     ]
    },
    {
     "name": "stdout",
     "output_type": "stream",
     "text": [
      "[2025-10-20 10:46:30] (2.4.2) The results of aspect term extraction have been saved in d:\\PROJECTS\\reviewlens-ai\\notebooks\\Aspect Term Extraction and Polarity Classification.FAST_LCF_ATEPC.result.json\n"
     ]
    },
    {
     "name": "stderr",
     "output_type": "stream",
     "text": [
      " 44%|████▍     | 44/100 [00:55<01:13,  1.32s/it]"
     ]
    },
    {
     "name": "stdout",
     "output_type": "stream",
     "text": [
      "[2025-10-20 10:46:32] (2.4.2) The results of aspect term extraction have been saved in d:\\PROJECTS\\reviewlens-ai\\notebooks\\Aspect Term Extraction and Polarity Classification.FAST_LCF_ATEPC.result.json\n"
     ]
    },
    {
     "name": "stderr",
     "output_type": "stream",
     "text": [
      " 45%|████▌     | 45/100 [00:57<01:13,  1.34s/it]"
     ]
    },
    {
     "name": "stdout",
     "output_type": "stream",
     "text": [
      "[2025-10-20 10:46:33] (2.4.2) The results of aspect term extraction have been saved in d:\\PROJECTS\\reviewlens-ai\\notebooks\\Aspect Term Extraction and Polarity Classification.FAST_LCF_ATEPC.result.json\n"
     ]
    },
    {
     "name": "stderr",
     "output_type": "stream",
     "text": [
      " 46%|████▌     | 46/100 [00:58<01:09,  1.28s/it]"
     ]
    },
    {
     "name": "stdout",
     "output_type": "stream",
     "text": [
      "[2025-10-20 10:46:34] (2.4.2) The results of aspect term extraction have been saved in d:\\PROJECTS\\reviewlens-ai\\notebooks\\Aspect Term Extraction and Polarity Classification.FAST_LCF_ATEPC.result.json\n"
     ]
    },
    {
     "name": "stderr",
     "output_type": "stream",
     "text": [
      " 47%|████▋     | 47/100 [00:59<01:00,  1.14s/it]"
     ]
    },
    {
     "name": "stdout",
     "output_type": "stream",
     "text": [
      "[2025-10-20 10:46:35] (2.4.2) The results of aspect term extraction have been saved in d:\\PROJECTS\\reviewlens-ai\\notebooks\\Aspect Term Extraction and Polarity Classification.FAST_LCF_ATEPC.result.json\n"
     ]
    },
    {
     "name": "stderr",
     "output_type": "stream",
     "text": [
      " 48%|████▊     | 48/100 [01:00<00:56,  1.10s/it]"
     ]
    },
    {
     "name": "stdout",
     "output_type": "stream",
     "text": [
      "[2025-10-20 10:46:36] (2.4.2) The results of aspect term extraction have been saved in d:\\PROJECTS\\reviewlens-ai\\notebooks\\Aspect Term Extraction and Polarity Classification.FAST_LCF_ATEPC.result.json\n"
     ]
    },
    {
     "name": "stderr",
     "output_type": "stream",
     "text": [
      " 49%|████▉     | 49/100 [01:01<00:58,  1.15s/it]"
     ]
    },
    {
     "name": "stdout",
     "output_type": "stream",
     "text": [
      "[2025-10-20 10:46:37] (2.4.2) The results of aspect term extraction have been saved in d:\\PROJECTS\\reviewlens-ai\\notebooks\\Aspect Term Extraction and Polarity Classification.FAST_LCF_ATEPC.result.json\n"
     ]
    },
    {
     "name": "stderr",
     "output_type": "stream",
     "text": [
      " 50%|█████     | 50/100 [01:02<00:54,  1.10s/it]"
     ]
    },
    {
     "name": "stdout",
     "output_type": "stream",
     "text": [
      "[2025-10-20 10:46:38] (2.4.2) The results of aspect term extraction have been saved in d:\\PROJECTS\\reviewlens-ai\\notebooks\\Aspect Term Extraction and Polarity Classification.FAST_LCF_ATEPC.result.json\n"
     ]
    },
    {
     "name": "stderr",
     "output_type": "stream",
     "text": [
      " 51%|█████     | 51/100 [01:03<01:01,  1.25s/it]"
     ]
    },
    {
     "name": "stdout",
     "output_type": "stream",
     "text": [
      "[2025-10-20 10:46:40] (2.4.2) The results of aspect term extraction have been saved in d:\\PROJECTS\\reviewlens-ai\\notebooks\\Aspect Term Extraction and Polarity Classification.FAST_LCF_ATEPC.result.json\n"
     ]
    },
    {
     "name": "stderr",
     "output_type": "stream",
     "text": [
      " 52%|█████▏    | 52/100 [01:05<00:58,  1.22s/it]"
     ]
    },
    {
     "name": "stdout",
     "output_type": "stream",
     "text": [
      "[2025-10-20 10:46:41] (2.4.2) The results of aspect term extraction have been saved in d:\\PROJECTS\\reviewlens-ai\\notebooks\\Aspect Term Extraction and Polarity Classification.FAST_LCF_ATEPC.result.json\n"
     ]
    },
    {
     "name": "stderr",
     "output_type": "stream",
     "text": [
      " 53%|█████▎    | 53/100 [01:06<00:59,  1.26s/it]"
     ]
    },
    {
     "name": "stdout",
     "output_type": "stream",
     "text": [
      "[2025-10-20 10:46:43] (2.4.2) The results of aspect term extraction have been saved in d:\\PROJECTS\\reviewlens-ai\\notebooks\\Aspect Term Extraction and Polarity Classification.FAST_LCF_ATEPC.result.json\n"
     ]
    },
    {
     "name": "stderr",
     "output_type": "stream",
     "text": [
      " 54%|█████▍    | 54/100 [01:08<01:05,  1.42s/it]"
     ]
    },
    {
     "name": "stdout",
     "output_type": "stream",
     "text": [
      "[2025-10-20 10:46:44] (2.4.2) The results of aspect term extraction have been saved in d:\\PROJECTS\\reviewlens-ai\\notebooks\\Aspect Term Extraction and Polarity Classification.FAST_LCF_ATEPC.result.json\n"
     ]
    },
    {
     "name": "stderr",
     "output_type": "stream",
     "text": [
      " 55%|█████▌    | 55/100 [01:09<00:57,  1.28s/it]"
     ]
    },
    {
     "name": "stdout",
     "output_type": "stream",
     "text": [
      "[2025-10-20 10:46:45] (2.4.2) The results of aspect term extraction have been saved in d:\\PROJECTS\\reviewlens-ai\\notebooks\\Aspect Term Extraction and Polarity Classification.FAST_LCF_ATEPC.result.json\n"
     ]
    },
    {
     "name": "stderr",
     "output_type": "stream",
     "text": [
      " 56%|█████▌    | 56/100 [01:10<01:02,  1.42s/it]"
     ]
    },
    {
     "name": "stdout",
     "output_type": "stream",
     "text": [
      "[2025-10-20 10:46:46] (2.4.2) The results of aspect term extraction have been saved in d:\\PROJECTS\\reviewlens-ai\\notebooks\\Aspect Term Extraction and Polarity Classification.FAST_LCF_ATEPC.result.json\n"
     ]
    },
    {
     "name": "stderr",
     "output_type": "stream",
     "text": [
      " 57%|█████▋    | 57/100 [01:11<00:53,  1.25s/it]"
     ]
    },
    {
     "name": "stdout",
     "output_type": "stream",
     "text": [
      "[2025-10-20 10:46:48] (2.4.2) The results of aspect term extraction have been saved in d:\\PROJECTS\\reviewlens-ai\\notebooks\\Aspect Term Extraction and Polarity Classification.FAST_LCF_ATEPC.result.json\n"
     ]
    },
    {
     "name": "stderr",
     "output_type": "stream",
     "text": [
      " 58%|█████▊    | 58/100 [01:13<00:53,  1.28s/it]"
     ]
    },
    {
     "name": "stdout",
     "output_type": "stream",
     "text": [
      "[2025-10-20 10:46:50] (2.4.2) The results of aspect term extraction have been saved in d:\\PROJECTS\\reviewlens-ai\\notebooks\\Aspect Term Extraction and Polarity Classification.FAST_LCF_ATEPC.result.json\n"
     ]
    },
    {
     "name": "stderr",
     "output_type": "stream",
     "text": [
      " 59%|█████▉    | 59/100 [01:14<00:59,  1.45s/it]"
     ]
    },
    {
     "name": "stdout",
     "output_type": "stream",
     "text": [
      "[2025-10-20 10:46:51] (2.4.2) The results of aspect term extraction have been saved in d:\\PROJECTS\\reviewlens-ai\\notebooks\\Aspect Term Extraction and Polarity Classification.FAST_LCF_ATEPC.result.json\n"
     ]
    },
    {
     "name": "stderr",
     "output_type": "stream",
     "text": [
      " 60%|██████    | 60/100 [01:15<00:52,  1.32s/it]"
     ]
    },
    {
     "name": "stdout",
     "output_type": "stream",
     "text": [
      "[2025-10-20 10:46:52] (2.4.2) The results of aspect term extraction have been saved in d:\\PROJECTS\\reviewlens-ai\\notebooks\\Aspect Term Extraction and Polarity Classification.FAST_LCF_ATEPC.result.json\n"
     ]
    },
    {
     "name": "stderr",
     "output_type": "stream",
     "text": [
      " 61%|██████    | 61/100 [01:16<00:48,  1.23s/it]"
     ]
    },
    {
     "name": "stdout",
     "output_type": "stream",
     "text": [
      "[2025-10-20 10:46:53] (2.4.2) The results of aspect term extraction have been saved in d:\\PROJECTS\\reviewlens-ai\\notebooks\\Aspect Term Extraction and Polarity Classification.FAST_LCF_ATEPC.result.json\n"
     ]
    },
    {
     "name": "stderr",
     "output_type": "stream",
     "text": [
      " 62%|██████▏   | 62/100 [01:18<00:47,  1.24s/it]"
     ]
    },
    {
     "name": "stdout",
     "output_type": "stream",
     "text": [
      "[2025-10-20 10:46:54] (2.4.2) The results of aspect term extraction have been saved in d:\\PROJECTS\\reviewlens-ai\\notebooks\\Aspect Term Extraction and Polarity Classification.FAST_LCF_ATEPC.result.json\n"
     ]
    },
    {
     "name": "stderr",
     "output_type": "stream",
     "text": [
      " 63%|██████▎   | 63/100 [01:19<00:47,  1.28s/it]"
     ]
    },
    {
     "name": "stdout",
     "output_type": "stream",
     "text": [
      "[2025-10-20 10:46:56] (2.4.2) The results of aspect term extraction have been saved in d:\\PROJECTS\\reviewlens-ai\\notebooks\\Aspect Term Extraction and Polarity Classification.FAST_LCF_ATEPC.result.json\n"
     ]
    },
    {
     "name": "stderr",
     "output_type": "stream",
     "text": [
      " 64%|██████▍   | 64/100 [01:20<00:47,  1.31s/it]"
     ]
    },
    {
     "name": "stdout",
     "output_type": "stream",
     "text": [
      "[2025-10-20 10:46:57] (2.4.2) The results of aspect term extraction have been saved in d:\\PROJECTS\\reviewlens-ai\\notebooks\\Aspect Term Extraction and Polarity Classification.FAST_LCF_ATEPC.result.json\n"
     ]
    },
    {
     "name": "stderr",
     "output_type": "stream",
     "text": [
      " 65%|██████▌   | 65/100 [01:21<00:42,  1.22s/it]"
     ]
    },
    {
     "name": "stdout",
     "output_type": "stream",
     "text": [
      "[2025-10-20 10:46:58] (2.4.2) The results of aspect term extraction have been saved in d:\\PROJECTS\\reviewlens-ai\\notebooks\\Aspect Term Extraction and Polarity Classification.FAST_LCF_ATEPC.result.json\n"
     ]
    },
    {
     "name": "stderr",
     "output_type": "stream",
     "text": [
      " 66%|██████▌   | 66/100 [01:22<00:39,  1.15s/it]"
     ]
    },
    {
     "name": "stdout",
     "output_type": "stream",
     "text": [
      "[2025-10-20 10:46:59] (2.4.2) The results of aspect term extraction have been saved in d:\\PROJECTS\\reviewlens-ai\\notebooks\\Aspect Term Extraction and Polarity Classification.FAST_LCF_ATEPC.result.json\n"
     ]
    },
    {
     "name": "stderr",
     "output_type": "stream",
     "text": [
      " 67%|██████▋   | 67/100 [01:23<00:36,  1.11s/it]"
     ]
    },
    {
     "name": "stdout",
     "output_type": "stream",
     "text": [
      "[2025-10-20 10:47:00] (2.4.2) The results of aspect term extraction have been saved in d:\\PROJECTS\\reviewlens-ai\\notebooks\\Aspect Term Extraction and Polarity Classification.FAST_LCF_ATEPC.result.json\n"
     ]
    },
    {
     "name": "stderr",
     "output_type": "stream",
     "text": [
      " 68%|██████▊   | 68/100 [01:25<00:36,  1.14s/it]"
     ]
    },
    {
     "name": "stdout",
     "output_type": "stream",
     "text": [
      "[2025-10-20 10:47:01] (2.4.2) The results of aspect term extraction have been saved in d:\\PROJECTS\\reviewlens-ai\\notebooks\\Aspect Term Extraction and Polarity Classification.FAST_LCF_ATEPC.result.json\n"
     ]
    },
    {
     "name": "stderr",
     "output_type": "stream",
     "text": [
      " 69%|██████▉   | 69/100 [01:26<00:35,  1.15s/it]"
     ]
    },
    {
     "name": "stdout",
     "output_type": "stream",
     "text": [
      "[2025-10-20 10:47:02] (2.4.2) The results of aspect term extraction have been saved in d:\\PROJECTS\\reviewlens-ai\\notebooks\\Aspect Term Extraction and Polarity Classification.FAST_LCF_ATEPC.result.json\n"
     ]
    },
    {
     "name": "stderr",
     "output_type": "stream",
     "text": [
      " 70%|███████   | 70/100 [01:27<00:32,  1.10s/it]"
     ]
    },
    {
     "name": "stdout",
     "output_type": "stream",
     "text": [
      "[2025-10-20 10:47:04] (2.4.2) The results of aspect term extraction have been saved in d:\\PROJECTS\\reviewlens-ai\\notebooks\\Aspect Term Extraction and Polarity Classification.FAST_LCF_ATEPC.result.json\n"
     ]
    },
    {
     "name": "stderr",
     "output_type": "stream",
     "text": [
      " 71%|███████   | 71/100 [01:28<00:35,  1.23s/it]"
     ]
    },
    {
     "name": "stdout",
     "output_type": "stream",
     "text": [
      "[2025-10-20 10:47:05] (2.4.2) The results of aspect term extraction have been saved in d:\\PROJECTS\\reviewlens-ai\\notebooks\\Aspect Term Extraction and Polarity Classification.FAST_LCF_ATEPC.result.json\n"
     ]
    },
    {
     "name": "stderr",
     "output_type": "stream",
     "text": [
      " 72%|███████▏  | 72/100 [01:30<00:34,  1.22s/it]"
     ]
    },
    {
     "name": "stdout",
     "output_type": "stream",
     "text": [
      "[2025-10-20 10:47:06] (2.4.2) The results of aspect term extraction have been saved in d:\\PROJECTS\\reviewlens-ai\\notebooks\\Aspect Term Extraction and Polarity Classification.FAST_LCF_ATEPC.result.json\n"
     ]
    },
    {
     "name": "stderr",
     "output_type": "stream",
     "text": [
      " 73%|███████▎  | 73/100 [01:31<00:34,  1.27s/it]"
     ]
    },
    {
     "name": "stdout",
     "output_type": "stream",
     "text": [
      "[2025-10-20 10:47:07] (2.4.2) The results of aspect term extraction have been saved in d:\\PROJECTS\\reviewlens-ai\\notebooks\\Aspect Term Extraction and Polarity Classification.FAST_LCF_ATEPC.result.json\n"
     ]
    },
    {
     "name": "stderr",
     "output_type": "stream",
     "text": [
      " 74%|███████▍  | 74/100 [01:32<00:32,  1.23s/it]"
     ]
    },
    {
     "name": "stdout",
     "output_type": "stream",
     "text": [
      "[2025-10-20 10:47:09] (2.4.2) The results of aspect term extraction have been saved in d:\\PROJECTS\\reviewlens-ai\\notebooks\\Aspect Term Extraction and Polarity Classification.FAST_LCF_ATEPC.result.json\n"
     ]
    },
    {
     "name": "stderr",
     "output_type": "stream",
     "text": [
      " 75%|███████▌  | 75/100 [01:33<00:32,  1.28s/it]"
     ]
    },
    {
     "name": "stdout",
     "output_type": "stream",
     "text": [
      "[2025-10-20 10:47:10] (2.4.2) The results of aspect term extraction have been saved in d:\\PROJECTS\\reviewlens-ai\\notebooks\\Aspect Term Extraction and Polarity Classification.FAST_LCF_ATEPC.result.json\n"
     ]
    },
    {
     "name": "stderr",
     "output_type": "stream",
     "text": [
      " 76%|███████▌  | 76/100 [01:35<00:29,  1.23s/it]"
     ]
    },
    {
     "name": "stdout",
     "output_type": "stream",
     "text": [
      "[2025-10-20 10:47:11] (2.4.2) The results of aspect term extraction have been saved in d:\\PROJECTS\\reviewlens-ai\\notebooks\\Aspect Term Extraction and Polarity Classification.FAST_LCF_ATEPC.result.json\n"
     ]
    },
    {
     "name": "stderr",
     "output_type": "stream",
     "text": [
      " 77%|███████▋  | 77/100 [01:36<00:27,  1.20s/it]"
     ]
    },
    {
     "name": "stdout",
     "output_type": "stream",
     "text": [
      "[2025-10-20 10:47:12] (2.4.2) The results of aspect term extraction have been saved in d:\\PROJECTS\\reviewlens-ai\\notebooks\\Aspect Term Extraction and Polarity Classification.FAST_LCF_ATEPC.result.json\n"
     ]
    },
    {
     "name": "stderr",
     "output_type": "stream",
     "text": [
      " 78%|███████▊  | 78/100 [01:37<00:24,  1.12s/it]"
     ]
    },
    {
     "name": "stdout",
     "output_type": "stream",
     "text": [
      "[2025-10-20 10:47:13] (2.4.2) The results of aspect term extraction have been saved in d:\\PROJECTS\\reviewlens-ai\\notebooks\\Aspect Term Extraction and Polarity Classification.FAST_LCF_ATEPC.result.json\n"
     ]
    },
    {
     "name": "stderr",
     "output_type": "stream",
     "text": [
      " 79%|███████▉  | 79/100 [01:38<00:23,  1.11s/it]"
     ]
    },
    {
     "name": "stdout",
     "output_type": "stream",
     "text": [
      "[2025-10-20 10:47:14] (2.4.2) The results of aspect term extraction have been saved in d:\\PROJECTS\\reviewlens-ai\\notebooks\\Aspect Term Extraction and Polarity Classification.FAST_LCF_ATEPC.result.json\n"
     ]
    },
    {
     "name": "stderr",
     "output_type": "stream",
     "text": [
      " 80%|████████  | 80/100 [01:39<00:25,  1.25s/it]"
     ]
    },
    {
     "name": "stdout",
     "output_type": "stream",
     "text": [
      "[2025-10-20 10:47:16] (2.4.2) The results of aspect term extraction have been saved in d:\\PROJECTS\\reviewlens-ai\\notebooks\\Aspect Term Extraction and Polarity Classification.FAST_LCF_ATEPC.result.json\n"
     ]
    },
    {
     "name": "stderr",
     "output_type": "stream",
     "text": [
      " 81%|████████  | 81/100 [01:41<00:24,  1.27s/it]"
     ]
    },
    {
     "name": "stdout",
     "output_type": "stream",
     "text": [
      "[2025-10-20 10:47:17] (2.4.2) The results of aspect term extraction have been saved in d:\\PROJECTS\\reviewlens-ai\\notebooks\\Aspect Term Extraction and Polarity Classification.FAST_LCF_ATEPC.result.json\n"
     ]
    },
    {
     "name": "stderr",
     "output_type": "stream",
     "text": [
      " 82%|████████▏ | 82/100 [01:41<00:19,  1.11s/it]"
     ]
    },
    {
     "name": "stdout",
     "output_type": "stream",
     "text": [
      "[2025-10-20 10:47:18] (2.4.2) The results of aspect term extraction have been saved in d:\\PROJECTS\\reviewlens-ai\\notebooks\\Aspect Term Extraction and Polarity Classification.FAST_LCF_ATEPC.result.json\n"
     ]
    },
    {
     "name": "stderr",
     "output_type": "stream",
     "text": [
      " 83%|████████▎ | 83/100 [01:43<00:19,  1.15s/it]"
     ]
    },
    {
     "name": "stdout",
     "output_type": "stream",
     "text": [
      "[2025-10-20 10:47:19] (2.4.2) The results of aspect term extraction have been saved in d:\\PROJECTS\\reviewlens-ai\\notebooks\\Aspect Term Extraction and Polarity Classification.FAST_LCF_ATEPC.result.json\n"
     ]
    },
    {
     "name": "stderr",
     "output_type": "stream",
     "text": [
      " 84%|████████▍ | 84/100 [01:44<00:20,  1.26s/it]"
     ]
    },
    {
     "name": "stdout",
     "output_type": "stream",
     "text": [
      "[2025-10-20 10:47:21] (2.4.2) The results of aspect term extraction have been saved in d:\\PROJECTS\\reviewlens-ai\\notebooks\\Aspect Term Extraction and Polarity Classification.FAST_LCF_ATEPC.result.json\n"
     ]
    },
    {
     "name": "stderr",
     "output_type": "stream",
     "text": [
      " 85%|████████▌ | 85/100 [01:45<00:19,  1.27s/it]"
     ]
    },
    {
     "name": "stdout",
     "output_type": "stream",
     "text": [
      "[2025-10-20 10:47:22] (2.4.2) The results of aspect term extraction have been saved in d:\\PROJECTS\\reviewlens-ai\\notebooks\\Aspect Term Extraction and Polarity Classification.FAST_LCF_ATEPC.result.json\n"
     ]
    },
    {
     "name": "stderr",
     "output_type": "stream",
     "text": [
      " 86%|████████▌ | 86/100 [01:47<00:17,  1.28s/it]"
     ]
    },
    {
     "name": "stdout",
     "output_type": "stream",
     "text": [
      "[2025-10-20 10:47:23] (2.4.2) The results of aspect term extraction have been saved in d:\\PROJECTS\\reviewlens-ai\\notebooks\\Aspect Term Extraction and Polarity Classification.FAST_LCF_ATEPC.result.json\n"
     ]
    },
    {
     "name": "stderr",
     "output_type": "stream",
     "text": [
      " 87%|████████▋ | 87/100 [01:48<00:16,  1.29s/it]"
     ]
    },
    {
     "name": "stdout",
     "output_type": "stream",
     "text": [
      "[2025-10-20 10:47:24] (2.4.2) The results of aspect term extraction have been saved in d:\\PROJECTS\\reviewlens-ai\\notebooks\\Aspect Term Extraction and Polarity Classification.FAST_LCF_ATEPC.result.json\n"
     ]
    },
    {
     "name": "stderr",
     "output_type": "stream",
     "text": [
      " 88%|████████▊ | 88/100 [01:49<00:14,  1.19s/it]"
     ]
    },
    {
     "name": "stdout",
     "output_type": "stream",
     "text": [
      "[2025-10-20 10:47:25] (2.4.2) The results of aspect term extraction have been saved in d:\\PROJECTS\\reviewlens-ai\\notebooks\\Aspect Term Extraction and Polarity Classification.FAST_LCF_ATEPC.result.json\n"
     ]
    },
    {
     "name": "stderr",
     "output_type": "stream",
     "text": [
      " 89%|████████▉ | 89/100 [01:50<00:12,  1.17s/it]"
     ]
    },
    {
     "name": "stdout",
     "output_type": "stream",
     "text": [
      "[2025-10-20 10:47:26] (2.4.2) The results of aspect term extraction have been saved in d:\\PROJECTS\\reviewlens-ai\\notebooks\\Aspect Term Extraction and Polarity Classification.FAST_LCF_ATEPC.result.json\n"
     ]
    },
    {
     "name": "stderr",
     "output_type": "stream",
     "text": [
      " 90%|█████████ | 90/100 [01:51<00:11,  1.13s/it]"
     ]
    },
    {
     "name": "stdout",
     "output_type": "stream",
     "text": [
      "[2025-10-20 10:47:28] (2.4.2) The results of aspect term extraction have been saved in d:\\PROJECTS\\reviewlens-ai\\notebooks\\Aspect Term Extraction and Polarity Classification.FAST_LCF_ATEPC.result.json\n"
     ]
    },
    {
     "name": "stderr",
     "output_type": "stream",
     "text": [
      " 91%|█████████ | 91/100 [01:52<00:10,  1.17s/it]"
     ]
    },
    {
     "name": "stdout",
     "output_type": "stream",
     "text": [
      "[2025-10-20 10:47:28] (2.4.2) The results of aspect term extraction have been saved in d:\\PROJECTS\\reviewlens-ai\\notebooks\\Aspect Term Extraction and Polarity Classification.FAST_LCF_ATEPC.result.json\n"
     ]
    },
    {
     "name": "stderr",
     "output_type": "stream",
     "text": [
      " 92%|█████████▏| 92/100 [01:53<00:08,  1.06s/it]"
     ]
    },
    {
     "name": "stdout",
     "output_type": "stream",
     "text": [
      "[2025-10-20 10:47:29] (2.4.2) The results of aspect term extraction have been saved in d:\\PROJECTS\\reviewlens-ai\\notebooks\\Aspect Term Extraction and Polarity Classification.FAST_LCF_ATEPC.result.json\n"
     ]
    },
    {
     "name": "stderr",
     "output_type": "stream",
     "text": [
      " 93%|█████████▎| 93/100 [01:54<00:07,  1.07s/it]"
     ]
    },
    {
     "name": "stdout",
     "output_type": "stream",
     "text": [
      "[2025-10-20 10:47:31] (2.4.2) The results of aspect term extraction have been saved in d:\\PROJECTS\\reviewlens-ai\\notebooks\\Aspect Term Extraction and Polarity Classification.FAST_LCF_ATEPC.result.json\n"
     ]
    },
    {
     "name": "stderr",
     "output_type": "stream",
     "text": [
      " 94%|█████████▍| 94/100 [01:56<00:06,  1.16s/it]"
     ]
    },
    {
     "name": "stdout",
     "output_type": "stream",
     "text": [
      "[2025-10-20 10:47:32] (2.4.2) The results of aspect term extraction have been saved in d:\\PROJECTS\\reviewlens-ai\\notebooks\\Aspect Term Extraction and Polarity Classification.FAST_LCF_ATEPC.result.json\n"
     ]
    },
    {
     "name": "stderr",
     "output_type": "stream",
     "text": [
      " 95%|█████████▌| 95/100 [01:57<00:06,  1.21s/it]"
     ]
    },
    {
     "name": "stdout",
     "output_type": "stream",
     "text": [
      "[2025-10-20 10:47:33] (2.4.2) The results of aspect term extraction have been saved in d:\\PROJECTS\\reviewlens-ai\\notebooks\\Aspect Term Extraction and Polarity Classification.FAST_LCF_ATEPC.result.json\n"
     ]
    },
    {
     "name": "stderr",
     "output_type": "stream",
     "text": [
      " 96%|█████████▌| 96/100 [01:58<00:04,  1.20s/it]"
     ]
    },
    {
     "name": "stdout",
     "output_type": "stream",
     "text": [
      "[2025-10-20 10:47:34] (2.4.2) The results of aspect term extraction have been saved in d:\\PROJECTS\\reviewlens-ai\\notebooks\\Aspect Term Extraction and Polarity Classification.FAST_LCF_ATEPC.result.json\n"
     ]
    },
    {
     "name": "stderr",
     "output_type": "stream",
     "text": [
      " 97%|█████████▋| 97/100 [01:59<00:03,  1.18s/it]"
     ]
    },
    {
     "name": "stdout",
     "output_type": "stream",
     "text": [
      "[2025-10-20 10:47:36] (2.4.2) The results of aspect term extraction have been saved in d:\\PROJECTS\\reviewlens-ai\\notebooks\\Aspect Term Extraction and Polarity Classification.FAST_LCF_ATEPC.result.json\n"
     ]
    },
    {
     "name": "stderr",
     "output_type": "stream",
     "text": [
      " 98%|█████████▊| 98/100 [02:00<00:02,  1.18s/it]"
     ]
    },
    {
     "name": "stdout",
     "output_type": "stream",
     "text": [
      "[2025-10-20 10:47:37] (2.4.2) The results of aspect term extraction have been saved in d:\\PROJECTS\\reviewlens-ai\\notebooks\\Aspect Term Extraction and Polarity Classification.FAST_LCF_ATEPC.result.json\n"
     ]
    },
    {
     "name": "stderr",
     "output_type": "stream",
     "text": [
      " 99%|█████████▉| 99/100 [02:02<00:01,  1.13s/it]"
     ]
    },
    {
     "name": "stdout",
     "output_type": "stream",
     "text": [
      "[2025-10-20 10:47:38] (2.4.2) The results of aspect term extraction have been saved in d:\\PROJECTS\\reviewlens-ai\\notebooks\\Aspect Term Extraction and Polarity Classification.FAST_LCF_ATEPC.result.json\n"
     ]
    },
    {
     "name": "stderr",
     "output_type": "stream",
     "text": [
      "100%|██████████| 100/100 [02:03<00:00,  1.11s/it]"
     ]
    },
    {
     "name": "stdout",
     "output_type": "stream",
     "text": [
      "[2025-10-20 10:47:39] (2.4.2) The results of aspect term extraction have been saved in d:\\PROJECTS\\reviewlens-ai\\notebooks\\Aspect Term Extraction and Polarity Classification.FAST_LCF_ATEPC.result.json\n"
     ]
    },
    {
     "name": "stderr",
     "output_type": "stream",
     "text": [
      "100%|██████████| 100/100 [02:04<00:00,  1.24s/it]\n"
     ]
    },
    {
     "name": "stdout",
     "output_type": "stream",
     "text": [
      "ABSA complete.\n",
      "\n",
      "--- Qualitative Validation Examples ---\n"
     ]
    },
    {
     "data": {
      "text/html": [
       "<div>\n",
       "<style scoped>\n",
       "    .dataframe tbody tr th:only-of-type {\n",
       "        vertical-align: middle;\n",
       "    }\n",
       "\n",
       "    .dataframe tbody tr th {\n",
       "        vertical-align: top;\n",
       "    }\n",
       "\n",
       "    .dataframe thead th {\n",
       "        text-align: right;\n",
       "    }\n",
       "</style>\n",
       "<table border=\"1\" class=\"dataframe\">\n",
       "  <thead>\n",
       "    <tr style=\"text-align: right;\">\n",
       "      <th></th>\n",
       "      <th>full_review_text</th>\n",
       "      <th>aspects</th>\n",
       "    </tr>\n",
       "  </thead>\n",
       "  <tbody>\n",
       "    <tr>\n",
       "      <th>8329</th>\n",
       "      <td>Change armpits I love, love this dress except for the armpits. if they had just made the armpits...</td>\n",
       "      <td>h (e)</td>\n",
       "    </tr>\n",
       "    <tr>\n",
       "      <th>17943</th>\n",
       "      <td>Awkward sweater I wanted this sweater to work but sadly it failed. first, the pink was way to sh...</td>\n",
       "      <td>p (i), b (a), k (n)</td>\n",
       "    </tr>\n",
       "    <tr>\n",
       "      <th>11456</th>\n",
       "      <td>Well-made but lacks structure I love the style of this swimsuit on the model. when i purchased i...</td>\n",
       "      <td>s (t), w (i), l (i)</td>\n",
       "    </tr>\n",
       "    <tr>\n",
       "      <th>14386</th>\n",
       "      <td>Strangely cut Was super excited to try this on, but had to go up 3 sizes from my normal 6 and th...</td>\n",
       "      <td>c (u), w (a), c (u)</td>\n",
       "    </tr>\n",
       "    <tr>\n",
       "      <th>18681</th>\n",
       "      <td>Feminine and clean Size 8 always, 36c and i have broad shoulders...i found this true to size. th...</td>\n",
       "      <td>S (i), s (i), c (o)</td>\n",
       "    </tr>\n",
       "  </tbody>\n",
       "</table>\n",
       "</div>"
      ],
      "text/plain": [
       "                                                                                          full_review_text  \\\n",
       "8329   Change armpits I love, love this dress except for the armpits. if they had just made the armpits...   \n",
       "17943  Awkward sweater I wanted this sweater to work but sadly it failed. first, the pink was way to sh...   \n",
       "11456  Well-made but lacks structure I love the style of this swimsuit on the model. when i purchased i...   \n",
       "14386  Strangely cut Was super excited to try this on, but had to go up 3 sizes from my normal 6 and th...   \n",
       "18681  Feminine and clean Size 8 always, 36c and i have broad shoulders...i found this true to size. th...   \n",
       "\n",
       "                   aspects  \n",
       "8329                 h (e)  \n",
       "17943  p (i), b (a), k (n)  \n",
       "11456  s (t), w (i), l (i)  \n",
       "14386  c (u), w (a), c (u)  \n",
       "18681  S (i), s (i), c (o)  "
      ]
     },
     "metadata": {},
     "output_type": "display_data"
    }
   ],
   "source": [
    "print(\"Loading Aspect-Based Sentiment Analysis model...\")\n",
    "aspect_extractor = ATEPCCheckpointManager.get_aspect_extractor(checkpoint='english')\n",
    "\n",
    "@stopit.threading_timeoutable(default=\"TIMEOUT_ERROR\")\n",
    "def analyze_review_with_timeout(review_text):\n",
    "    \"\"\"Core ABSA logic with a timeout decorator.\"\"\"\n",
    "    result = aspect_extractor.extract_aspect(inference_source=[review_text], print_result=False)\n",
    "    if not result[0]['aspect']:\n",
    "        return \"N/A\"\n",
    "    return \", \".join([f\"{aspect[0]} ({aspect[1]})\" for aspect in result[0]['aspect']])\n",
    "\n",
    "def safe_get_aspects(review_text):\n",
    "    \"\"\"Wrapper function that calls the core logic with a timeout and general error handling.\"\"\"\n",
    "    try:\n",
    "        # Give each review a 20-second timeout to prevent stalling the entire batch.\n",
    "        return analyze_review_with_timeout(review_text, timeout=20)\n",
    "    except Exception as e:\n",
    "        print(f\"--> ABSA FAILED on review: '{review_text[:50]}...' | Error: {e}\")\n",
    "        return \"GENERAL_ERROR\"\n",
    "\n",
    "print(f\"Applying ABSA to the fast sample ({len(df_sample_fast)} reviews)...\")\n",
    "df_sample_fast['aspects'] = df_sample_fast['full_review_text'].progress_apply(safe_get_aspects)\n",
    "print(\"ABSA complete.\")\n",
    "\n",
    "# --- Qualitative Validation & Error Checking ---\n",
    "print(\"\\n--- Qualitative Validation Examples ---\")\n",
    "display(df_sample_fast[df_sample_fast['aspects'] != 'N/A'][['full_review_text', 'aspects']].head())\n",
    "\n",
    "failed_reviews = df_sample_fast[df_sample_fast['aspects'].str.contains(\"ERROR\")]\n",
    "if not failed_reviews.empty:\n",
    "    print(f\"\\nWARNING: {len(failed_reviews)} reviews failed or timed out during ABSA.\")"
   ]
  },
  {
   "cell_type": "markdown",
   "id": "51996fd9",
   "metadata": {},
   "source": [
    "### 4.4. Topic Modeling\n",
    "* **Business Question:** What are the hidden, high-level themes of conversation across all reviews?\n",
    "* **Model Chosen:** `bertopic`\n",
    "* **Justification:** BERTopic leverages transformer embeddings to find semantically coherent topics, which are more interpretable than traditional methods."
   ]
  },
  {
   "cell_type": "code",
   "execution_count": 19,
   "id": "e35d061d",
   "metadata": {},
   "outputs": [
    {
     "name": "stdout",
     "output_type": "stream",
     "text": [
      "Starting Topic Modeling on the larger sample (2000 reviews)...\n",
      "Topic Modeling complete!\n",
      "\n",
      "--- Discovered Topics Summary ---\n"
     ]
    },
    {
     "data": {
      "text/html": [
       "<div>\n",
       "<style scoped>\n",
       "    .dataframe tbody tr th:only-of-type {\n",
       "        vertical-align: middle;\n",
       "    }\n",
       "\n",
       "    .dataframe tbody tr th {\n",
       "        vertical-align: top;\n",
       "    }\n",
       "\n",
       "    .dataframe thead th {\n",
       "        text-align: right;\n",
       "    }\n",
       "</style>\n",
       "<table border=\"1\" class=\"dataframe\">\n",
       "  <thead>\n",
       "    <tr style=\"text-align: right;\">\n",
       "      <th></th>\n",
       "      <th>Topic</th>\n",
       "      <th>Count</th>\n",
       "      <th>Name</th>\n",
       "      <th>Representation</th>\n",
       "      <th>Representative_Docs</th>\n",
       "    </tr>\n",
       "  </thead>\n",
       "  <tbody>\n",
       "    <tr>\n",
       "      <th>0</th>\n",
       "      <td>-1</td>\n",
       "      <td>543</td>\n",
       "      <td>-1_dress_love_size_like</td>\n",
       "      <td>[dress, love, size, like, fabric, wear, just, great, im, fit]</td>\n",
       "      <td>[Amazing! This dress is much cuter in person than it looks on the model online. it's so flattering, it fits like a dream, and i love the fabric. i love that the skirt is a true a-line, not poofy, so it's sleek, slimming and flattering. the neckline is feminine and gorgeous and is a bit sexy, while still being classy. oh, and the length, perfection! not too long, not too short. i never ever pay full price and for this dress i had to. i am a curvy size 4 and it fits perfectly true to size. i couldn't be hap, Love it but runs small I love the print and design, the photo does not do it justice. i fell in love with it in the store but could not find my size. i ordered my size online but it was still small and short. it came up to my waist, and was tight in the shoulders and waist. i really wish it wasn't so small. i love love this top, the colors are vibrant and shiny, totally my style. i highly recommend it if it fits., Great dress! I'm 6 ft tall and usually wear a size 10/12, but had to size up to a 14 because this dress runs a bit small around the waist. it's a beautiful dress. it hit me right below the knee, so might be long on shorter gals. i received many compliments on this dress. the colors are beautiful. the main color of the dress is a dark navy. it looked black online. definitely buy this dress! it's a great work dress and you won't be sorry that you did.]</td>\n",
       "    </tr>\n",
       "    <tr>\n",
       "      <th>1</th>\n",
       "      <td>0</td>\n",
       "      <td>256</td>\n",
       "      <td>0_cute_love_flattering_like</td>\n",
       "      <td>[cute, love, flattering, like, looks, just, im, pretty, great, small]</td>\n",
       "      <td>[Love this top This top is so much prettier on. you can dress it up or down. it does run a tad large. i'm 5'7\" and 145 lbs. i am usually in between a small and medium but usually a medium. i went for the small on this and i loved the fit of it. still pretty flowy and the medium would have been just too big. it is a tunic so it runs kind of long. a tiny bit too long for me but i will still wear it a lot., Really thick, quality top. very swingy bottom I bought the red and white. both tank tops were a nice, thick material- definitely high quality. i was hoping there would just be a little bit of swing at the bottom, just enough to be loose and flattering. but there is a ton of extra fabric at the end, which with a larger bust wound up edging into looking a little maternity. but i think it'd be great on you if you tend to do well with very drapey or swingy tops. it runs a touch big- im normally between a small and an xs, and the xs was not even, Adorable top I loved this top from the first time i saw it online. i ordered a size 10 ~i'm slim with broad shoulder and 36c~ the top fit perfect. when i opened the pkg i thought it would be too big since it looked wide but that was not the case at all. its a little longer in the back and a little shorter in the front. on me~it looks exactly like it does in the picture.its really a cute top and it looks lovely over shorts. makes a cute, casual summer outfit. i cant wait to wear it.]</td>\n",
       "    </tr>\n",
       "    <tr>\n",
       "      <th>2</th>\n",
       "      <td>1</td>\n",
       "      <td>219</td>\n",
       "      <td>1_pants_jeans_fit_size</td>\n",
       "      <td>[pants, jeans, fit, size, pair, great, love, legs, stretch, like]</td>\n",
       "      <td>[Amazing comfortable pants! I really didn't expect to like these pants as much as i do. i ordered a pair of the pilcro linen wide legs and really loved the cute added lace details on them. i thought i would exchange these for another pair of those, but after trying both pairs on, i realized how much softer and heavier these are. i will keep the one pair of the pilcro, but they did feel a little scratchy. these have a very nice drape to them and they do make your bum look nice. i ordered a size 8, which is what i seem to we, Great pants! These pants are beautiful. great fit and great fabric. really comfortable and elegant. i am tall 5'8\" and have a long torso so it's nice to find pants that are high waisted., I love these jeans! These jeans are so comfortable. they are well-made. they are the perfect pair of jeans. the only thing i do not love is they stretch out a little bit after wearing. i am going to order these again in the next smaller size.]</td>\n",
       "    </tr>\n",
       "    <tr>\n",
       "      <th>3</th>\n",
       "      <td>2</td>\n",
       "      <td>137</td>\n",
       "      <td>2_sweater_soft_love_cozy</td>\n",
       "      <td>[sweater, soft, love, cozy, great, sleeves, warm, color, wear, like]</td>\n",
       "      <td>[Another fabulous cashmere sweater! The sweater is very soft. it has an interesting pattern. i purchased the neutral color in size xs which runs tts. it's definitely a cozy sweater to wear this winter., Comfortable sweater I love this sweater. it's warm, comfortable, and soft. nice quality too., Love it! This is a great sweater. soft and beautiful. it's my new go to sweater??]</td>\n",
       "    </tr>\n",
       "    <tr>\n",
       "      <th>4</th>\n",
       "      <td>3</td>\n",
       "      <td>122</td>\n",
       "      <td>3_shirt_tee_white_tshirt</td>\n",
       "      <td>[shirt, tee, white, tshirt, cute, great, really, bought, love, wear]</td>\n",
       "      <td>[Love it!! Love the shirt! fits great and is so cute! a must have for fall!, Cute variation on a t shirt I just got this shirt the other day, and already love it. it fits like a basic tee, but the details on the sleeves and back are really cute. the shape is loose at the bottom, which makes this really comfortable.\\r\\nmy only complaint is it's a little tight across the back, but this does not hurt the overall fit and comfort of the top. this is a little thicker than a tee shirt too, so the quality feels nice., Love This shirt is so comfortable and looks very nice with jeans or work pants. it's a great shirt!]</td>\n",
       "    </tr>\n",
       "  </tbody>\n",
       "</table>\n",
       "</div>"
      ],
      "text/plain": [
       "   Topic  Count                         Name  \\\n",
       "0     -1    543      -1_dress_love_size_like   \n",
       "1      0    256  0_cute_love_flattering_like   \n",
       "2      1    219       1_pants_jeans_fit_size   \n",
       "3      2    137     2_sweater_soft_love_cozy   \n",
       "4      3    122     3_shirt_tee_white_tshirt   \n",
       "\n",
       "                                                          Representation  \\\n",
       "0          [dress, love, size, like, fabric, wear, just, great, im, fit]   \n",
       "1  [cute, love, flattering, like, looks, just, im, pretty, great, small]   \n",
       "2      [pants, jeans, fit, size, pair, great, love, legs, stretch, like]   \n",
       "3   [sweater, soft, love, cozy, great, sleeves, warm, color, wear, like]   \n",
       "4   [shirt, tee, white, tshirt, cute, great, really, bought, love, wear]   \n",
       "\n",
       "                                                                                                                                                                                                                                                                                                                                                                                                                                                                                                                                                                                                                                                                                                                                                                                                                                                                                                                                                                                                                                                                                                                                                                                                                                                                                                                                                                                                                                                                                   Representative_Docs  \n",
       "0                                                             [Amazing! This dress is much cuter in person than it looks on the model online. it's so flattering, it fits like a dream, and i love the fabric. i love that the skirt is a true a-line, not poofy, so it's sleek, slimming and flattering. the neckline is feminine and gorgeous and is a bit sexy, while still being classy. oh, and the length, perfection! not too long, not too short. i never ever pay full price and for this dress i had to. i am a curvy size 4 and it fits perfectly true to size. i couldn't be hap, Love it but runs small I love the print and design, the photo does not do it justice. i fell in love with it in the store but could not find my size. i ordered my size online but it was still small and short. it came up to my waist, and was tight in the shoulders and waist. i really wish it wasn't so small. i love love this top, the colors are vibrant and shiny, totally my style. i highly recommend it if it fits., Great dress! I'm 6 ft tall and usually wear a size 10/12, but had to size up to a 14 because this dress runs a bit small around the waist. it's a beautiful dress. it hit me right below the knee, so might be long on shorter gals. i received many compliments on this dress. the colors are beautiful. the main color of the dress is a dark navy. it looked black online. definitely buy this dress! it's a great work dress and you won't be sorry that you did.]  \n",
       "1  [Love this top This top is so much prettier on. you can dress it up or down. it does run a tad large. i'm 5'7\" and 145 lbs. i am usually in between a small and medium but usually a medium. i went for the small on this and i loved the fit of it. still pretty flowy and the medium would have been just too big. it is a tunic so it runs kind of long. a tiny bit too long for me but i will still wear it a lot., Really thick, quality top. very swingy bottom I bought the red and white. both tank tops were a nice, thick material- definitely high quality. i was hoping there would just be a little bit of swing at the bottom, just enough to be loose and flattering. but there is a ton of extra fabric at the end, which with a larger bust wound up edging into looking a little maternity. but i think it'd be great on you if you tend to do well with very drapey or swingy tops. it runs a touch big- im normally between a small and an xs, and the xs was not even, Adorable top I loved this top from the first time i saw it online. i ordered a size 10 ~i'm slim with broad shoulder and 36c~ the top fit perfect. when i opened the pkg i thought it would be too big since it looked wide but that was not the case at all. its a little longer in the back and a little shorter in the front. on me~it looks exactly like it does in the picture.its really a cute top and it looks lovely over shorts. makes a cute, casual summer outfit. i cant wait to wear it.]  \n",
       "2                                                                                                                                                                                                                                                                                                                                                                                                                                                                                                    [Amazing comfortable pants! I really didn't expect to like these pants as much as i do. i ordered a pair of the pilcro linen wide legs and really loved the cute added lace details on them. i thought i would exchange these for another pair of those, but after trying both pairs on, i realized how much softer and heavier these are. i will keep the one pair of the pilcro, but they did feel a little scratchy. these have a very nice drape to them and they do make your bum look nice. i ordered a size 8, which is what i seem to we, Great pants! These pants are beautiful. great fit and great fabric. really comfortable and elegant. i am tall 5'8\" and have a long torso so it's nice to find pants that are high waisted., I love these jeans! These jeans are so comfortable. they are well-made. they are the perfect pair of jeans. the only thing i do not love is they stretch out a little bit after wearing. i am going to order these again in the next smaller size.]  \n",
       "3                                                                                                                                                                                                                                                                                                                                                                                                                                                                                                                                                                                                                                                                                                                                                                                                                                                                                                                                                                                                                                                                                                          [Another fabulous cashmere sweater! The sweater is very soft. it has an interesting pattern. i purchased the neutral color in size xs which runs tts. it's definitely a cozy sweater to wear this winter., Comfortable sweater I love this sweater. it's warm, comfortable, and soft. nice quality too., Love it! This is a great sweater. soft and beautiful. it's my new go to sweater??]  \n",
       "4                                                                                                                                                                                                                                                                                                                                                                                                                                                                                                                                                                                                                                                                                                                                                                                                                                                             [Love it!! Love the shirt! fits great and is so cute! a must have for fall!, Cute variation on a t shirt I just got this shirt the other day, and already love it. it fits like a basic tee, but the details on the sleeves and back are really cute. the shape is loose at the bottom, which makes this really comfortable.\\r\\nmy only complaint is it's a little tight across the back, but this does not hurt the overall fit and comfort of the top. this is a little thicker than a tee shirt too, so the quality feels nice., Love This shirt is so comfortable and looks very nice with jeans or work pants. it's a great shirt!]  "
      ]
     },
     "metadata": {},
     "output_type": "display_data"
    }
   ],
   "source": [
    "print(f\"Starting Topic Modeling on the larger sample ({len(df_sample_topic)} reviews)...\")\n",
    "docs = df_sample_topic['full_review_text'].tolist()\n",
    "\n",
    "from sklearn.feature_extraction.text import CountVectorizer, ENGLISH_STOP_WORDS\n",
    "\n",
    "# 1. Create the list of stop words to ignore\n",
    "stop_words = list(ENGLISH_STOP_WORDS)\n",
    "\n",
    "# 2. Create the \"employee\" (CountVectorizer) and give it the stop word list\n",
    "vectorizer = CountVectorizer(stop_words=stop_words)\n",
    "\n",
    "# 3. Initialize BERTopic and tell it to use our specific \"employee\"\n",
    "topic_model = BERTopic(language=\"english\", vectorizer_model=vectorizer, verbose=False)\n",
    "\n",
    "topics, probs = topic_model.fit_transform(docs)\n",
    "\n",
    "print(\"Topic Modeling complete!\")\n",
    "\n",
    "# --- Qualitative Validation ---\n",
    "print(\"\\n--- Discovered Topics Summary ---\")\n",
    "\n",
    "# Display a summary of the most prominent topics. Topic -1 contains outliers and can be ignored.\n",
    "# We also show only the top 10 most frequent topics (plus Topic -1)\n",
    "display(topic_model.get_topic_info().head(5))"
   ]
  },
  {
   "cell_type": "markdown",
   "id": "c7d4ff2b",
   "metadata": {},
   "source": [
    "#### **How to Read This Table:**\n",
    "\n",
    "* **`Topic`**: The ID number for the theme.\n",
    "    * **Topic `-1` (The Outliers):** This is the **outlier group**. It contains all unique, one-off reviews that don't fit into a larger theme. **You should ignore Topic -1 when analyzing trends.**\n",
    "* **`Count`**: The number of reviews in that theme. This shows you how popular a topic is.\n",
    "* **`Representation`**: The **new, clean keywords** that best describe the theme. After remove the stop-words, we can see the true essence of the conversation (e.g., `[jeans, fit, pants, love]`).\n",
    "* **`Representative_Docs`**: A full, real review from that group, which provides the ultimate context. **Read this column to give the topic a human-readable name.**\n",
    "\n",
    "**Example Interpretation:**\n",
    "* **Topic 0:** Keywords might be `[dress, love, fit, size]`. This is the **\"Dress Reviews\"** cluster.\n",
    "* **Topic 1:** Keywords might be `[jeans, fit, pants, comfortable]`. This is the **\"Pants & Jeans\"** cluster."
   ]
  },
  {
   "cell_type": "markdown",
   "id": "c05c3f99",
   "metadata": {},
   "source": [
    "## 5. Final Result & Conclusion\n",
    "The sample DataFrame is now fully enriched with insights from all AI models. This validated logic is ready to be integrated into the production Lambda functions. The final data structure provides a multi-dimensional view of each customer review, enabling a rich, interactive analysis on the final dashboard."
   ]
  },
  {
   "cell_type": "code",
   "execution_count": 9,
   "id": "5cf839d3",
   "metadata": {},
   "outputs": [
    {
     "name": "stdout",
     "output_type": "stream",
     "text": [
      "--- Final Enriched Sample DataFrame (from fast sample) ---\n"
     ]
    },
    {
     "data": {
      "text/html": [
       "<div>\n",
       "<style scoped>\n",
       "    .dataframe tbody tr th:only-of-type {\n",
       "        vertical-align: middle;\n",
       "    }\n",
       "\n",
       "    .dataframe tbody tr th {\n",
       "        vertical-align: top;\n",
       "    }\n",
       "\n",
       "    .dataframe thead th {\n",
       "        text-align: right;\n",
       "    }\n",
       "</style>\n",
       "<table border=\"1\" class=\"dataframe\">\n",
       "  <thead>\n",
       "    <tr style=\"text-align: right;\">\n",
       "      <th></th>\n",
       "      <th>full_review_text</th>\n",
       "      <th>sentiment_prediction</th>\n",
       "      <th>zero_shot_topic</th>\n",
       "      <th>aspects</th>\n",
       "      <th>Rating</th>\n",
       "      <th>true_sentiment</th>\n",
       "    </tr>\n",
       "  </thead>\n",
       "  <tbody>\n",
       "    <tr>\n",
       "      <th>8329</th>\n",
       "      <td>Change armpits I love, love this dress except for the armpits. if they had just made the armpits...</td>\n",
       "      <td>NEGATIVE</td>\n",
       "      <td>quality</td>\n",
       "      <td>h (e)</td>\n",
       "      <td>4</td>\n",
       "      <td>POSITIVE</td>\n",
       "    </tr>\n",
       "    <tr>\n",
       "      <th>17943</th>\n",
       "      <td>Awkward sweater I wanted this sweater to work but sadly it failed. first, the pink was way to sh...</td>\n",
       "      <td>NEGATIVE</td>\n",
       "      <td>quality</td>\n",
       "      <td>p (i), b (a), k (n)</td>\n",
       "      <td>2</td>\n",
       "      <td>NEGATIVE</td>\n",
       "    </tr>\n",
       "    <tr>\n",
       "      <th>2157</th>\n",
       "      <td>Best. tee. ever. Oh my! i love this tee. it is super soft. i love how it doesn't look like a sac...</td>\n",
       "      <td>POSITIVE</td>\n",
       "      <td>fit</td>\n",
       "      <td>N/A</td>\n",
       "      <td>5</td>\n",
       "      <td>POSITIVE</td>\n",
       "    </tr>\n",
       "    <tr>\n",
       "      <th>11456</th>\n",
       "      <td>Well-made but lacks structure I love the style of this swimsuit on the model. when i purchased i...</td>\n",
       "      <td>NEGATIVE</td>\n",
       "      <td>quality</td>\n",
       "      <td>s (t), w (i), l (i)</td>\n",
       "      <td>3</td>\n",
       "      <td>NEGATIVE</td>\n",
       "    </tr>\n",
       "    <tr>\n",
       "      <th>14386</th>\n",
       "      <td>Strangely cut Was super excited to try this on, but had to go up 3 sizes from my normal 6 and th...</td>\n",
       "      <td>NEGATIVE</td>\n",
       "      <td>fit</td>\n",
       "      <td>c (u), w (a), c (u)</td>\n",
       "      <td>2</td>\n",
       "      <td>NEGATIVE</td>\n",
       "    </tr>\n",
       "    <tr>\n",
       "      <th>18681</th>\n",
       "      <td>Feminine and clean Size 8 always, 36c and i have broad shoulders...i found this true to size. th...</td>\n",
       "      <td>POSITIVE</td>\n",
       "      <td>fit</td>\n",
       "      <td>S (i), s (i), c (o)</td>\n",
       "      <td>5</td>\n",
       "      <td>POSITIVE</td>\n",
       "    </tr>\n",
       "    <tr>\n",
       "      <th>4124</th>\n",
       "      <td>So comfortable I love the style of this dress, comfortable but chic, and it feels great!</td>\n",
       "      <td>POSITIVE</td>\n",
       "      <td>quality</td>\n",
       "      <td>s (t)</td>\n",
       "      <td>5</td>\n",
       "      <td>POSITIVE</td>\n",
       "    </tr>\n",
       "    <tr>\n",
       "      <th>7991</th>\n",
       "      <td>Perfect lwd! This is perfect! it fits tts. i am usually an 8 and this was spot on. it isn't too ...</td>\n",
       "      <td>POSITIVE</td>\n",
       "      <td>quality</td>\n",
       "      <td>l (w), f (i), h (u)</td>\n",
       "      <td>5</td>\n",
       "      <td>POSITIVE</td>\n",
       "    </tr>\n",
       "    <tr>\n",
       "      <th>8409</th>\n",
       "      <td>Yessssss!!!!! A culotte and basketball short hybrid. these culottes are heaven....very comfortab...</td>\n",
       "      <td>POSITIVE</td>\n",
       "      <td>fit</td>\n",
       "      <td>c (u), w (a), b (a)</td>\n",
       "      <td>5</td>\n",
       "      <td>POSITIVE</td>\n",
       "    </tr>\n",
       "    <tr>\n",
       "      <th>21423</th>\n",
       "      <td>Love the color Love the color and the design. it is slightly see-through which i don't like but ...</td>\n",
       "      <td>POSITIVE</td>\n",
       "      <td>quality</td>\n",
       "      <td>c (o), c (o), d (e)</td>\n",
       "      <td>5</td>\n",
       "      <td>POSITIVE</td>\n",
       "    </tr>\n",
       "  </tbody>\n",
       "</table>\n",
       "</div>"
      ],
      "text/plain": [
       "                                                                                          full_review_text  \\\n",
       "8329   Change armpits I love, love this dress except for the armpits. if they had just made the armpits...   \n",
       "17943  Awkward sweater I wanted this sweater to work but sadly it failed. first, the pink was way to sh...   \n",
       "2157   Best. tee. ever. Oh my! i love this tee. it is super soft. i love how it doesn't look like a sac...   \n",
       "11456  Well-made but lacks structure I love the style of this swimsuit on the model. when i purchased i...   \n",
       "14386  Strangely cut Was super excited to try this on, but had to go up 3 sizes from my normal 6 and th...   \n",
       "18681  Feminine and clean Size 8 always, 36c and i have broad shoulders...i found this true to size. th...   \n",
       "4124              So comfortable I love the style of this dress, comfortable but chic, and it feels great!   \n",
       "7991   Perfect lwd! This is perfect! it fits tts. i am usually an 8 and this was spot on. it isn't too ...   \n",
       "8409   Yessssss!!!!! A culotte and basketball short hybrid. these culottes are heaven....very comfortab...   \n",
       "21423  Love the color Love the color and the design. it is slightly see-through which i don't like but ...   \n",
       "\n",
       "      sentiment_prediction zero_shot_topic              aspects  Rating  \\\n",
       "8329              NEGATIVE         quality                h (e)       4   \n",
       "17943             NEGATIVE         quality  p (i), b (a), k (n)       2   \n",
       "2157              POSITIVE             fit                  N/A       5   \n",
       "11456             NEGATIVE         quality  s (t), w (i), l (i)       3   \n",
       "14386             NEGATIVE             fit  c (u), w (a), c (u)       2   \n",
       "18681             POSITIVE             fit  S (i), s (i), c (o)       5   \n",
       "4124              POSITIVE         quality                s (t)       5   \n",
       "7991              POSITIVE         quality  l (w), f (i), h (u)       5   \n",
       "8409              POSITIVE             fit  c (u), w (a), b (a)       5   \n",
       "21423             POSITIVE         quality  c (o), c (o), d (e)       5   \n",
       "\n",
       "      true_sentiment  \n",
       "8329        POSITIVE  \n",
       "17943       NEGATIVE  \n",
       "2157        POSITIVE  \n",
       "11456       NEGATIVE  \n",
       "14386       NEGATIVE  \n",
       "18681       POSITIVE  \n",
       "4124        POSITIVE  \n",
       "7991        POSITIVE  \n",
       "8409        POSITIVE  \n",
       "21423       POSITIVE  "
      ]
     },
     "metadata": {},
     "output_type": "display_data"
    }
   ],
   "source": [
    "# Select and reorder columns for a clean final view\n",
    "# Note: 'bertopic_id' is not in this fast sample; it's a corpus-level insight.\n",
    "final_columns = [\n",
    "    'full_review_text', \n",
    "    'sentiment_prediction', \n",
    "    'zero_shot_topic',\n",
    "    'aspects',\n",
    "    'Rating',\n",
    "    'true_sentiment'\n",
    "]\n",
    "\n",
    "print(\"--- Final Enriched Sample DataFrame (from fast sample) ---\")\n",
    "display(df_sample_fast[final_columns].head(10))"
   ]
  },
  {
   "cell_type": "markdown",
   "id": "bf1794ef",
   "metadata": {},
   "source": [
    "The DataFrame above represents the **final enriched product** for a *single sample* of reviews. \n",
    "Each new column provides a different layer of AI-driven insight:\n",
    "\n",
    "* **`full_review_text` (Input):** The raw, sanitized text (Title + Review Text) that was fed into the pipeline.\n",
    "* **`sentiment_prediction` (AI Layer 1):** The **overall sentiment** of the entire review (e.g., `POSITIVE`/`NEGATIVE`), as determined by our *Sentiment Lambda*.\n",
    "* **`zero_shot_topic` (AI Layer 2):** The **primary topic** of the review, dynamically classified into one of our predefined business categories (e.g., `price`, `quality`), as determined by our *Zero-Shot Lambda*.\n",
    "* **`aspects` (AI Layer 3):** The **most granular and actionable analysis**. This extracts the specific *features* (aspects) mentioned and the sentiment attached *to each one* (e.g., `fabric (NEGATIVE)`), as determined by our *ABSA Lambda*.\n",
    "* **`Rating` (Input):** The original 1-5 star rating provided by the user.\n",
    "* **`true_sentiment` (Validation Only):** A \"ground truth\" column created *only* in this notebook to validate our model. This column is not part of the final production pipeline."
   ]
  },
  {
   "cell_type": "markdown",
   "id": "fe675611",
   "metadata": {},
   "source": [
    "## 6. Conclusive Analysis: How to Interpret and Use These Results\n",
    "\n",
    "The final, enriched table is a powerful business tool. Its value is unlocked by asking specific questions and combining the AI-generated columns to get answers.\n",
    "\n",
    "Here is a practical guide on how a business stakeholder would use this data.\n",
    "\n",
    "### Business Question 1: \"How are we doing?\"\n",
    "\n",
    "**Analysis:** Use the `sentiment_prediction` column.\n",
    "\n",
    "By aggregating this column, a manager can get an instant, high-level KPI of overall customer happiness. This dashboard metric can be tracked weekly to spot immediate changes in brand perception.\n",
    "\n",
    "**Example Insight:**\n",
    "* \"This week, our Positive Sentiment Score dropped by 8%.\"\n",
    "\n",
    "---\n",
    "### Business Question 2: \"Our sentiment dropped... *Why*?\"\n",
    "\n",
    "**Analysis:** Combine `sentiment_prediction` and `zero_shot_topic`.\n",
    "\n",
    "This is the first level of diagnosis. A manager can filter for all reviews where `sentiment_prediction == 'NEGATIVE'` and then create a bar chart of the `zero_shot_topic` column.\n",
    "\n",
    "**Example Insight:**\n",
    "* \"Our sentiment dropped because of a 60% spike in complaints. By filtering for those complaints, we see that **72% of them are about 'shipping'**.\"\n",
    "* **Action:** The business now knows exactly where the problem is. They don't need to waste time investigating 'price' or 'quality'; they have a clear priority.\n",
    "\n",
    "---\n",
    "### Business Question 3: \"Okay, shipping is the problem. But *what about* shipping?\"\n",
    "\n",
    "**Analysis:** Combine `zero_shot_topic` and `aspects`.\n",
    "\n",
    "This is the most powerful, granular insight. The manager can now filter for all reviews where `zero_shot_topic == 'shipping'` and analyze the `aspects` column.\n",
    "\n",
    "**Example Insight:**\n",
    "* By creating a word cloud from the `aspects` in this segment, they see that the most common phrases are **`delivery time (NEGATIVE)`** and **`box (NEGATIVE)`**.\n",
    "* **Action:** The business has its final answer. The problem isn't the cost of shipping; it's that the courier is slow and the packaging is getting damaged. They can now take surgical action, like renegotiating with their courier or improving their packaging materials.\n",
    "\n",
    "---\n",
    "### Business Question 4: \"What problems are we not even aware of?\"\n",
    "\n",
    "**Analysis:** Use the `bertopic_id` from the full, corpus-level analysis (as seen in section 4.4).\n",
    "\n",
    "This analysis is performed by the `stitcher-lambda` on the entire dataset. It automatically clusters reviews by \"hidden themes\" that we didn't define in advance.\n",
    "\n",
    "**Example Insight:**\n",
    "* By examining the `topic_model.get_topic_info()` output, the manager spots a new cluster (e.g., `[jeans, fit, pants, comfortable]`).\n",
    "* **Action:** The manager realizes that a huge number of customers (Count: 219) are discussing jeans not just in terms of price or quality (our predefined topics), but specifically in terms of fit and comfort. This hidden theme was previously invisible.\n",
    "\n",
    "---\n",
    "### Final Conclusion\n",
    "\n",
    "This notebook has validated the logic for each of these four analytical layers. The deployed AWS pipeline is built to perform this exact multi-layer analysis at scale, transforming raw text feedback from a \"cost center\" (something to be stored) into a **strategic asset** (something to be queried)."
   ]
  }
 ],
 "metadata": {
  "kernelspec": {
   "display_name": ".venv",
   "language": "python",
   "name": "python3"
  },
  "language_info": {
   "codemirror_mode": {
    "name": "ipython",
    "version": 3
   },
   "file_extension": ".py",
   "mimetype": "text/x-python",
   "name": "python",
   "nbconvert_exporter": "python",
   "pygments_lexer": "ipython3",
   "version": "3.11.9"
  }
 },
 "nbformat": 4,
 "nbformat_minor": 5
}
